{
 "cells": [
  {
   "metadata": {},
   "cell_type": "markdown",
   "source": [
    "\n",
    "# 执行reshape操作\n",
    "\n",
    "例如 , reshaped = torch.reshape(input_tensor, (-1, 1, 2, 2))\n",
    "\n",
    "        (-1, 1, 2, 2) 表示：\n",
    "\n",
    "        -1：自动计算批量大小\n",
    "\n",
    "        1：通道数为1（单通道）\n",
    "\n",
    "        2：高度为2\n",
    "\n",
    "        2：宽度为2\n",
    "\n",
    "        场景 :\n",
    "            1. 转换为CNN可接受的格式（批量×通道×高度×宽度）\n",
    "            2.转换为批量处理格式 （批量×特征）\n",
    "                    # 如果有多个2×2的图像块\n",
    "                    patches = [\n",
    "                        [[1, 2], [-1, 3]],    # 第一个patch\n",
    "                        [[4, 5], [6, 7]],     # 第二个patch\n",
    "                        [[8, 9], [10, 11]]    # 第三个patch\n",
    "                    ]\n",
    "\n",
    "                #意思是3个2×2的图像块，每个图像块有1个通道\n",
    "                batch_patches = torch.reshape(torch.tensor(patches), (-1, 1, 2, 2))\n",
    "                print(\"批量patch形状:\", batch_patches.shape)  # torch.Size([3, 1, 2, 2])\n",
    "\n",
    "            3.  ReLU激活函数\n",
    "\n",
    "\n"
   ],
   "id": "394733b341c8ac5d"
  },
  {
   "metadata": {},
   "cell_type": "markdown",
   "source": [
    "例如 , reshaped = torch.reshape(input_tensor, (1, 1, 1, -1))\n\n",
    "        (1, 1, 1, -1) 表示：\n\n",
    "        1：批量大小固定为 1（单样本输入）\n\n",
    "        1：通道数为 1，方便复用卷积/归一化等层\n\n",
    "        1：高度设为 1，仅占位无需真实二维结构\n\n",
    "        -1：让 PyTorch 自动推断剩余长度作为宽度，保持元素总数不变\n\n",
    "        场景 :\n",
    "            1. 将任意向量快速包装成 4 维形状（批量×通道×高度×宽度），复用现有 CNN/PyTorch API。\n",
    "            2. 临时对齐模型接口：某些层要求输入至少四维，可用 1 作为占位维度。\n",
    "            3. 调试或可视化时，把长向量“铺平”到最后一维，便于打印或绘图。\n\n",
    "        示例 :\n",
    "            import torch\n\n",
    "            input_tensor = torch.arange(6)\n",
    "            reshaped = torch.reshape(input_tensor, (1, 1, 1, -1))\n",
    "            print('原始形状:', input_tensor.shape)  # torch.Size([6])\n",
    "            print('新形状:', reshaped.shape)       # torch.Size([1, 1, 1, 6])\n",
    "            print('数据保持不变:', reshaped)\n"
   ],
   "id": "819e2974401b89"
  },
  {
   "metadata": {},
   "cell_type": "markdown",
   "source": "",
   "id": "86b4e7cb1ba0925"
  },
  {
   "metadata": {},
   "cell_type": "markdown",
   "source": "",
   "id": "69e5364cf840d593"
  }
 ],
 "metadata": {
  "kernelspec": {
   "display_name": "Python 3",
   "language": "python",
   "name": "python3"
  },
  "language_info": {
   "codemirror_mode": {
    "name": "ipython",
    "version": 2
   },
   "file_extension": ".py",
   "mimetype": "text/x-python",
   "name": "python",
   "nbconvert_exporter": "python",
   "pygments_lexer": "ipython2",
   "version": "2.7.6"
  }
 },
 "nbformat": 4,
 "nbformat_minor": 5
}
