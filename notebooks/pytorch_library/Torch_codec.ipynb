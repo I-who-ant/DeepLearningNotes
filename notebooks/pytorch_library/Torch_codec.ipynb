{
 "cells": [
  {
   "cell_type": "markdown",
   "id": "7ad4e057",
   "metadata": {},
   "source": [
    "\n",
    "# TorchCodec 学习与速查\n",
    "\n",
    "> 汇总 TorchCodec 的核心功能、安装指南、解码/采样示例与 API 参考，方便在 PyTorch 视频/音频训练场景中快速查阅。"
   ]
  },
  {
   "cell_type": "markdown",
   "id": "07e2ff52",
   "metadata": {},
   "source": [
    "\n",
    "## Welcome 欢迎来到 TorchCodec 文档\n",
    "- **TorchCodec 是什么？**\n",
    "  - Python 库，用于在 CPU 与 CUDA GPU 上将视频/音频解码为 PyTorch 张量。\n",
    "  - 支持音频编码（视频编码即将上线），完美融入 PyTorch 生态。\n",
    "  - 面向视频/音频机器学习任务，负责“把媒体文件变成张量数据”。\n",
    "- **设计理念 / Design Goals**：\n",
    "  1. Pythonic API，贴合 Python / PyTorch 约定。\n",
    "  2. 基于系统 FFmpeg 进行编解码，屏蔽 FFmpeg 使用复杂度，保证性能与正确性。\n",
    "  3. 直接返回 PyTorch 张量，可无缝衔接 transforms、datasets 与训练循环。"
   ]
  },
  {
   "cell_type": "markdown",
   "id": "e7e91609",
   "metadata": {},
   "source": [
    "\n",
    "## Installation 安装说明\n",
    "\n",
    "参考 <https://github.com/pytorch/torchcodec#installing-torchcodec> 获取最新指引。"
   ]
  },
  {
   "cell_type": "markdown",
   "id": "07ce389f",
   "metadata": {},
   "source": [
    "\n",
    "### CPU-only 安装流程\n",
    "1. **安装 PyTorch**：按官方说明获取与系统匹配的稳定版本。\n",
    "2. **安装 FFmpeg**：TorchCodec 支持 FFmpeg 主版本 4-7（全平台），在 macOS / Linux 额外支持 8。若需更新版，可使用 conda：\n",
    "   ```bash\n",
    "   conda install \"ffmpeg<8\"\n",
    "   # 或\n",
    "   conda install \"ffmpeg<8\" -c conda-forge\n",
    "   ```\n",
    "3. **安装 TorchCodec**：\n",
    "   ```bash\n",
    "   pip install torchcodec\n",
    "   ```\n",
    "4. **版本兼容表**：\n",
    "   | torchcodec | torch | Python |\n",
    "   | --- | --- | --- |\n",
    "   | main / nightly | main / nightly | >=3.10, <=3.13 |\n",
    "   | 0.8 | 2.9 | >=3.10, <=3.13 |\n",
    "   | 0.7 / 0.6 | 2.8 | >=3.9, <=3.13 |\n",
    "   | 0.5 / 0.4 / 0.3 | 2.7 | >=3.9, <=3.13 |\n",
    "   | 0.2 | 2.6 | >=3.9, <=3.13 |\n",
    "   | 0.1 | 2.5 | >=3.9, <=3.12 |\n",
    "   | 0.0.3 | 2.4 | >=3.8, <=3.12 |"
   ]
  },
  {
   "cell_type": "markdown",
   "id": "338be08e",
   "metadata": {},
   "source": [
    "\n",
    "### CUDA 支持安装流程\n",
    "1. **GPU 条件**：需具备 NVDEC 硬件并支持目标视频格式（参阅 Nvidia GPU support matrix）。\n",
    "2. **FFmpeg + NVDEC**：安装带 NVDEC 的 FFmpeg（版本 4-7 全平台可用，Linux 额外支持 8）；确认命令：\n",
    "   ```bash\n",
    "   ffmpeg -decoders | grep -i nvidia\n",
    "   ```\n",
    "3. **CUDA 工具链**：安装匹配的 PyTorch（含 libnpp、libnvrtc）。\n",
    "4. **安装 TorchCodec**（pip）：\n",
    "   ```bash\n",
    "   # 以 CUDA Toolkit 12.6 为例\n",
    "   pip install torchcodec --index-url=https://download.pytorch.org/whl/cu126\n",
    "   ```\n",
    "   未指定 `--index-url` 将安装 CPU 版本。\n",
    "5. **Windows（实验性）**：建议使用 conda 获取 PyTorch 与 TorchCodec：\n",
    "   ```bash\n",
    "   conda install -c conda-forge \"torchcodec=*=*cuda*\"\n",
    "   ```"
   ]
  },
  {
   "cell_type": "code",
   "execution_count": null,
   "id": "1e000a90",
   "metadata": {},
   "outputs": [],
   "source": [
    "\n",
    "# 快速验证安装与 CUDA 支持\n",
    "try:\n",
    "    import torchcodec\n",
    "    info = {'TorchCodec version': torchcodec.__version__}\n",
    "    try:\n",
    "        import torch\n",
    "        info['PyTorch version'] = torch.__version__\n",
    "        info['CUDA available'] = torch.cuda.is_available()\n",
    "    except ImportError:\n",
    "        info['PyTorch version'] = '未安装 torch'\n",
    "    for k, v in info.items():\n",
    "        print(f\"{k}: {v}\")\n",
    "except ImportError as err:\n",
    "    print('TorchCodec 未安装 ->', err)\n",
    "    print('安装示例: pip install torchcodec')"
   ]
  },
  {
   "cell_type": "markdown",
   "id": "29b50473",
   "metadata": {},
   "source": [
    "\n",
    "## Decoding 解码\n",
    "> 参阅 `generated_examples/decoding/*.html` 获取逐步讲解。\n",
    "- **快速入门**：`basic_example` 展示基础视频解码流程。\n",
    "- **音频解码**：`audio_decoding` 示例介绍如何读取音频流。\n",
    "- **GPU 解码**：`basic_cuda_example` 展示 CUDA/NVDEC 的使用方式。\n",
    "- **流式解码**：`file_like` 教程讲解从云端/文件对象高效拉流。\n",
    "- **并行解码**：`parallel_decoding` 展示多进程/多线程解码技术。\n",
    "- **片段采样**：`sampling` 教程涉及常规与随机 Clip 抽取。"
   ]
  },
  {
   "cell_type": "markdown",
   "id": "5defcb9f",
   "metadata": {},
   "source": [
    "\n",
    "### TorchCodec 快速体验 · Getting Started with TorchCodec\n",
    "```python\n",
    "from torchcodec.decoders import VideoDecoder\n",
    "\n",
    "decoder = VideoDecoder(\"path/to/video.mp4\", device=\"cpu\")\n",
    "meta = decoder.metadata\n",
    "print(meta)\n",
    "frame0 = decoder[0]  # [3, H, W] uint8\n",
    "clip = decoder[0:-1:20]  # [N, 3, H, W]\n",
    "```"
   ]
  },
  {
   "cell_type": "markdown",
   "id": "1e149ea9",
   "metadata": {},
   "source": [
    "\n",
    "### 音频解码 · Audio Decoding\n",
    "```python\n",
    "from torchcodec.decoders import AudioDecoder\n",
    "\n",
    "audio = AudioDecoder(\"path/to/audio.flac\")\n",
    "print(audio.metadata)\n",
    "samples = audio[0:16000]  # [channels, num_samples]\n",
    "```"
   ]
  },
  {
   "cell_type": "markdown",
   "id": "93a667d8",
   "metadata": {},
   "source": [
    "\n",
    "### GPU 解码 · GPU Decoding\n",
    "```python\n",
    "from torchcodec.decoders import VideoDecoder\n",
    "\n",
    "decoder = VideoDecoder(\"path/to/video.mp4\", device=\"cuda\")\n",
    "frames = decoder[0:10]  # 张量位于 GPU，可直接送入后续模型\n",
    "```"
   ]
  },
  {
   "cell_type": "markdown",
   "id": "73d035aa",
   "metadata": {},
   "source": [
    "\n",
    "### Clip Sampling 片段采样\n",
    "```python\n",
    "from torchcodec.samplers import clips_at_regular_timestamps\n",
    "\n",
    "clips = clips_at_regular_timestamps(\n",
    "    decoder,\n",
    "    seconds_between_clip_starts=1.5,\n",
    "    num_frames_per_clip=4,\n",
    "    seconds_between_frames=0.1,\n",
    ")\n",
    "print(clips.data.shape, clips.pts_seconds.shape)\n",
    "```"
   ]
  },
  {
   "cell_type": "markdown",
   "id": "3b7d8c43",
   "metadata": {},
   "source": [
    "\n",
    "### 试用示例视频 · Generate Sample Video via FFmpeg\n",
    "```bash\n",
    "fontfile=/usr/share/fonts/dejavu-sans-mono-fonts/DejaVuSansMono-Bold.ttf\n",
    "output_video_file=/tmp/output_video.mp4\n",
    "\n",
    "ffmpeg -f lavfi -i     color=size=640x400:duration=10:rate=25:color=blue     -vf \"drawtext=fontfile=${fontfile}:fontsize=30:fontcolor=white:x=(w-text_w)/2:y=(h-text_h)/2:text='Frame %{frame_num}'\"     ${output_video_file}\n",
    "```\n",
    "然后即可使用 TorchCodec 对生成视频进行加载与采样。"
   ]
  },
  {
   "cell_type": "markdown",
   "id": "43ffd587",
   "metadata": {},
   "source": [
    "\n",
    "## Using TorchCodec 功能速览\n",
    "- **VideoDecoder**：读取视频流，支持索引、时间戳检索、批量获取。\n",
    "- **AudioDecoder**：读取音频流，返回波形张量。\n",
    "- **Sampler 系列**：常规/随机索引、时间戳、clip 采样。\n",
    "- **Frame / FrameBatch / AudioSamples**：封装数据与元信息（PTS、duration 等）。"
   ]
  },
  {
   "cell_type": "markdown",
   "id": "e3443526",
   "metadata": {},
   "source": [
    "\n",
    "## Benchmark Results 基准测试结果\n",
    "- 测试平台：22 核 CPU + Nvidia A100（5 个 NVDEC 解码器）。\n",
    "- 案例：\n",
    "  - Mandelbrot 视频 (1280x720@60fps, 120s, libx264)。\n",
    "  - NASA 宣传片 (960x540@29.7fps, 206s, libx264)。\n",
    "- 绝大部分解码器使用 FFmpeg 6.1.2，TorchVision 使用 4.2.2。\n",
    "- TorchCodec 中 “approx” 代表使用近似模式搜索，兼顾速度与准确度。\n",
    "- 详细数据可参考官方 benchmark 图表。"
   ]
  },
  {
   "cell_type": "markdown",
   "id": "f860ecfa",
   "metadata": {},
   "source": [
    "\n",
    "## Interactive Examples 交互式示例\n",
    "- **Decoding**：\n",
    "  - `Decoding a video with VideoDecoder`\n",
    "  - `Decoding audio streams with AudioDecoder`\n",
    "  - `Accelerated video decoding on GPUs with CUDA and NVDEC`\n",
    "  - `Streaming data through file-like support`\n",
    "  - `Exact vs Approximate seek mode`\n",
    "  - `How to sample video clips`\n",
    "  - `Parallel video decoding: multi-processing and multi-threading`\n",
    "  - `Decoding with custom frame mappings`\n",
    "- **Encoding**：\n",
    "  - `Encoding audio samples with AudioEncoder`\n",
    "> 示例链接位于官方文档，可按需查阅并运行。"
   ]
  },
  {
   "cell_type": "markdown",
   "id": "23bb1dc7",
   "metadata": {},
   "source": [
    "\n",
    "## API Reference API 参考"
   ]
  },
  {
   "cell_type": "markdown",
   "id": "ff42935b",
   "metadata": {},
   "source": [
    "\n",
    "### `torchcodec`\n",
    "- **Frame**：单个视频帧及元数据。\n",
    "- **FrameBatch**：帧批次（含张量、PTS、duration）。\n",
    "- **AudioSamples**：音频样本与元信息。"
   ]
  },
  {
   "cell_type": "markdown",
   "id": "c51c84f6",
   "metadata": {},
   "source": [
    "\n",
    "### `torchcodec.decoders`\n",
    "- **VideoDecoder**：单流视频解码器。\n",
    "- **AudioDecoder**：单流音频解码器。\n",
    "- **set_cuda_backend**：上下文管理器，设置 VideoDecoder 的 CUDA 后端。\n",
    "- **VideoStreamMetadata / AudioStreamMetadata**：流级元信息。\n",
    "> 视频/音频解码教程见官方文档：`Decoding a video with VideoDecoder`、`Decoding audio streams with AudioDecoder`。"
   ]
  },
  {
   "cell_type": "markdown",
   "id": "4de26bdf",
   "metadata": {},
   "source": [
    "\n",
    "### `torchcodec.encoders`\n",
    "- **AudioEncoder**：音频编码器（视频编码即将上线）。\n",
    "> 教程：`Encoding audio samples with AudioEncoder`。"
   ]
  },
  {
   "cell_type": "markdown",
   "id": "e9a75ff8",
   "metadata": {},
   "source": [
    "\n",
    "### `torchcodec.samplers`\n",
    "- **clips_at_regular_indices**：按等距帧索引采样片段。\n",
    "- **clips_at_random_indices**：随机帧索引采样。\n",
    "- **clips_at_regular_timestamps**：按等间隔时间戳采样。\n",
    "- **clips_at_random_timestamps**：按随机时间戳采样。\n",
    "> 教程：`How to sample video clips`。"
   ]
  }
 ],
 "metadata": {
  "kernelspec": {
   "display_name": "Python 3",
   "language": "python",
   "name": "python3"
  },
  "language_info": {
   "name": "python",
   "version": "3.11"
  }
 },
 "nbformat": 4,
 "nbformat_minor": 5
}