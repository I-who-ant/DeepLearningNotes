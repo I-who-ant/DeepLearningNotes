{
 "cells": [
  {
   "cell_type": "markdown",
   "id": "bca5a0bb",
   "metadata": {},
   "source": [
    "# TorchRec 学习笔记\n",
    "\n",
    "> 记录 TorchRec 的核心概念、安装方式、关键组件与 API 索引，帮助快速构建与部署大规模推荐系统。TorchRec 深度集成 PyTorch 与 FBGEMM，面向稀疏特征、巨大嵌入表与分布式训练场景。"
   ]
  },
  {
   "cell_type": "markdown",
   "id": "cc875deb",
   "metadata": {},
   "source": [
    "## 入门指南\n",
    "- **TorchRec 概述**：PyTorch 官方推荐系统库，提供嵌入表组件、分片与分布式训练工具，是 Meta 内部推荐模型的核心基础设施。\n",
    "- **为什么需要 TorchRec**：\n",
    "  - 专用组件（EmbeddingBagCollection 等）让推荐模型开发更高效。\n",
    "  - 复杂分片策略（表、列、行、网格等）应对海量嵌入表。\n",
    "  - 结合 FBGEMM 的高性能实现，兼顾训练与推理。\n",
    "  - 无缝嵌入 PyTorch 生态，沿用已有代码与工具链。\n",
    "- **官方入门资源**：\n",
    "  - TorchRec 概览：`overview.html`\n",
    "  - 安装指南：`setup-torchrec.html`\n",
    "  - 交互式教程（Colab）：<https://colab.research.google.com/github/pytorch/torchrec/blob/main/Torchrec_Introduction.ipynb>"
   ]
  },
  {
   "cell_type": "markdown",
   "id": "6422afa4",
   "metadata": {},
   "source": [
    "## 安装与环境\n",
    "- **支持环境**：Python 3.9–3.12；CPU、CUDA 11.8/12.1/12.4。\n",
    "- **核心依赖**：PyTorch、FBGEMM；版本需匹配（如 TorchRec 1.0 ↔ FBGEMM 1.0 ↔ PyTorch 2.5）。\n",
    "- **安装示例（CUDA 12.1）**：\n",
    "  ```bash\n",
    "  pip install torch --index-url https://download.pytorch.org/whl/cu121\n",
    "  pip install fbgemm-gpu --index-url https://download.pytorch.org/whl/cu121\n",
    "  pip install torchmetrics==1.0.3\n",
    "  pip install torchrec --index-url https://download.pytorch.org/whl/cu121\n",
    "  ```\n",
    "- 如需源码编译或其他 CUDA 版本，替换 `cu121` 为 `cpu / cu118 / cu124`。"
   ]
  },
  {
   "cell_type": "code",
   "execution_count": null,
   "id": "e15402e1",
   "metadata": {},
   "outputs": [],
   "source": [
    "# 检查 TorchRec 与依赖安装状态\n",
    "try:\n",
    "    import torch, torchrec\n",
    "    from torchrec.fx import tracer  # 触发依赖导入\n",
    "    print('PyTorch 版本:', torch.__version__)\n",
    "    print('TorchRec 版本:', torchrec.__version__)\n",
    "except Exception as err:\n",
    "    print('TorchRec 未安装或导入失败 ->', err)\n",
    "    print('请按文档安装对应版本的 torch / fbgemm-gpu / torchrec')"
   ]
  },
  {
   "cell_type": "markdown",
   "id": "3f85121e",
   "metadata": {},
   "source": [
    "## TorchRec 核心概念\n",
    "### 稀疏特征数据结构\n",
    "- **JaggedTensor**：通过 `lengths/offsets + values` 存放单一稀疏特征，避免 padding。\n",
    "- **KeyedJaggedTensor (KJT)**：带键的 JaggedTensor，支持一次传入多组特征。\n",
    "- **KeyedTensor**：将多路 dense 张量按键连接，常用于池化后的结果。\n",
    "\n",
    "除了数据结构，TorchRec 训练流程包含以下组件：\n",
    "1. **Planner**：根据嵌入表配置、硬件拓扑生成最优分片方案。\n",
    "2. **Sharder**：按方案对模型进行表/行/列等多策略分片。\n",
    "3. **DistributedModelParallel (DMP)**：整合分片模型、优化器与数据并行入口。\n",
    "4. **Sparse Optimizer**：将梯度回传与优化一步融合，进一步提升效率。"
   ]
  },
  {
   "cell_type": "markdown",
   "id": "0b7b4166",
   "metadata": {},
   "source": [
    "### JaggedTensor 示例\n",
    "```python\n",
    "# 用户交互记录：三位用户分别交互 2/3/1 个物品\n",
    "lengths = torch.tensor([2, 3, 1])\n",
    "values = torch.tensor([101, 102, 201, 202, 203, 301])\n",
    "jt = JaggedTensor(lengths=lengths, values=values)\n",
    "```\n",
    "- `lengths` 表示每个样本的元素个数。\n",
    "- `offsets` 可替代 `lengths` 存储起始索引。\n",
    "- `values` 为稀疏特征真实内容。\n",
    "\n",
    "`KeyedJaggedTensor` 支持多个键：\n",
    "```python\n",
    "kjt = KeyedJaggedTensor.from_jt_dict({\n",
    "    'user': JaggedTensor(values=torch.tensor([1,2,3]), lengths=torch.tensor([2,1])),\n",
    "    'item': JaggedTensor(values=torch.tensor([10,11]), lengths=torch.tensor([1,1]))\n",
    "})\n",
    "```"
   ]
  },
  {
   "cell_type": "markdown",
   "id": "a721d48b",
   "metadata": {},
   "source": [
    "## 训练流程与分片策略\n",
    "1. **Planner 规划**：根据嵌入表元信息、硬件拓扑、约束，生成 `ShardingPlan`。\n",
    "2. **Sharder 执行**：常见策略包括：\n",
    "   - Table-Wise (TW)：整表放单卡。\n",
    "   - Row-Wise (RW)：按行切分，适合大表。\n",
    "   - Column-Wise (CW)：按 embedding 维度切分。\n",
    "   - Table-Wise-Row-Wise / Grid-Shard：组合策略。\n",
    "   - Data-Parallel (DP)：每卡保留一份副本。\n",
    "3. **DistributedModelParallel**：封装分片模块，结合数据并行训练。\n",
    "4. **通信流程**：`input_dist -> lookup -> output_dist`，对应特征分发、嵌入查找、结果回传；反向时反序执行。"
   ]
  },
  {
   "cell_type": "markdown",
   "id": "e8937c43",
   "metadata": {},
   "source": [
    "### TorchRec Planner 组件\n",
    "- **EmbeddingShardingPlanner**：主入口，组合 Enumerator / Proposer / Partitioner / Estimator。\n",
    "- **Enumerator**：枚举可行分片选项。\n",
    "- **Proposer**：贪心/启发式筛选最优组合。\n",
    "- **Partitioner**：实际放置分片，考虑内存与性能。\n",
    "- **StorageReservation / PerfEstimator**：估计存储与时间开销。"
   ]
  },
  {
   "cell_type": "markdown",
   "id": "da3fbf48",
   "metadata": {},
   "source": [
    "## 示例：EmbeddingBagCollection 前向"
   ]
  },
  {
   "cell_type": "code",
   "execution_count": null,
   "id": "0bcbdc62",
   "metadata": {},
   "outputs": [],
   "source": [
    "import torch\n",
    "from torchrec.sparse.jagged_tensor import JaggedTensor, KeyedJaggedTensor\n",
    "import torchrec\n",
    "from torchrec.modules.embedding_configs import EmbeddingBagConfig\n",
    "from torchrec.modules.embedding_modules import EmbeddingBagCollection\n",
    "\n",
    "# 定义两个嵌入表\n",
    "product_cfg = EmbeddingBagConfig(\n",
    "    name='product_table',\n",
    "    embedding_dim=16,\n",
    "    num_embeddings=4096,\n",
    "    feature_names=['product'],\n",
    ")\n",
    "user_cfg = EmbeddingBagConfig(\n",
    "    name='user_table',\n",
    "    embedding_dim=16,\n",
    "    num_embeddings=4096,\n",
    "    feature_names=['user'],\n",
    ")\n",
    "\n",
    "# 创建 EmbeddingBagCollection\n",
    "ebc = EmbeddingBagCollection(device='cpu', tables=[product_cfg, user_cfg])\n",
    "\n",
    "# 构建样例 JaggedTensor\n",
    "device = torch.device('cpu')\n",
    "product_jt = JaggedTensor(values=torch.tensor([1, 2, 1, 5], device=device),\n",
    "                          lengths=torch.tensor([3, 1], device=device))\n",
    "user_jt = JaggedTensor(values=torch.tensor([2, 3, 4, 1], device=device),\n",
    "                       lengths=torch.tensor([2, 2], device=device))\n",
    "\n",
    "kjt = KeyedJaggedTensor.from_jt_dict({'product': product_jt, 'user': user_jt})\n",
    "output = ebc(kjt)\n",
    "print('输出 KeyedTensor keys:', output.keys())\n",
    "print('输出形状:', output.values().shape)"
   ]
  },
  {
   "cell_type": "markdown",
   "id": "0dbf0aa1",
   "metadata": {},
   "source": [
    "## 分布式训练与模型并行\n",
    "- **DistributedModelParallel**：主入口，接受原始 `nn.Module`、分片计划与 sharders，自动包装分布式训练环境。\n",
    "- 支持延迟初始化 (`init_data_parallel=False`)、自定义数据并行封装、监控追踪等。\n",
    "- 训练过程可通过 `reshard` 动态调整分片策略。"
   ]
  },
  {
   "cell_type": "markdown",
   "id": "432067e3",
   "metadata": {},
   "source": [
    "## 推理部署\n",
    "- **量化**：`quantize_inference_model` 将训练模块替换为量化版本（如 `QuantEmbeddingBagCollection`）。\n",
    "- **分片推理**：`shard_quant_model` 按需在多设备上分布推理模型，生成新的 `ShardingPlan`。\n",
    "- **C++ 部署**：模型可通过 TorchScript/Fx 导出，结合 FBGEMM 在 C++ 环境执行，进一步降低延迟。"
   ]
  },
  {
   "cell_type": "markdown",
   "id": "987233e5",
   "metadata": {},
   "source": [
    "## 关键模块速览\n",
    "- **数据类型**：`JaggedTensor`、`KeyedJaggedTensor`、`KeyedTensor`。\n",
    "- **嵌入模块**：`EmbeddingBagCollection`、`EmbeddingCollection` 及对应 Sharded/Quant 版本。\n",
    "- **Planner 相关**：`EmbeddingShardingPlanner`、`EmbeddingEnumerator`、`GreedyPerfPartitioner`、`HeuristicalStorageReservation`、`GreedyProposer`、`EmbeddingPerfEstimator` 等。\n",
    "- **分布式**：`DistributedModelParallel`、`ShardingPlan`、`EmbeddingModuleShardingPlan`。\n",
    "- **推理**：`torchrec.inference.modules.quantize_inference_model`、`shard_quant_model`。"
   ]
  },
  {
   "cell_type": "markdown",
   "id": "3061d194",
   "metadata": {},
   "source": [
    "## API 参考索引\n",
    "- `torchrec.sparse.jagged_tensor`\n",
    "- `torchrec.modules.embedding_configs`\n",
    "- `torchrec.modules.embedding_modules`\n",
    "- `torchrec.distributed.types / planner / model_parallel`\n",
    "- `torchrec.inference.modules`\n",
    "- 更多内容参阅官方文档与 Sphinx 页面。"
   ]
  },
  {
   "cell_type": "markdown",
   "id": "08436119",
   "metadata": {},
   "source": [
    "## 进一步阅读\n",
    "- TorchRec 官方文档：<https://pytorch.org/torchrec/latest/>\n",
    "- Interactive Notebook：TorchRec Introduction（Colab）\n",
    "- FBGEMM GPU：<https://github.com/pytorch/FBGEMM>\n",
    "- TorchRec GitHub：<https://github.com/pytorch/torchrec>"
   ]
  }
 ],
 "metadata": {
  "kernelspec": {
   "display_name": "Python 3",
   "language": "python",
   "name": "python3"
  },
  "language_info": {
   "name": "python",
   "version": "3.11"
  }
 },
 "nbformat": 4,
 "nbformat_minor": 5
}