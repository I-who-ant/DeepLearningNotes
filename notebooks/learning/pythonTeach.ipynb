{
 "cells": [
  {
   "metadata": {},
   "cell_type": "code",
   "outputs": [],
   "execution_count": null,
   "source": "",
   "id": "4a5f6a3e75623839"
  },
  {
   "cell_type": "markdown",
   "id": "8a77807f92f26ee",
   "metadata": {
    "tags": [
     "笔记"
    ]
   },
   "source": [
    "可以在 Jupyter Notebook 中执行 Python 代码。\n",
    "# Python 基础\n",
    "\n",
    "## for\n",
    "\n",
    "```python\n",
    "# 输出 0-9（左闭右开区间）\n",
    "for i in range(10):\n",
    "    print(i)\n",
    "\n",
    "numbers = [1, 2, 3, 4, 5, 6, 7, 8, 9, 10]\n",
    "\n",
    "for i in range(1, 10, 4):\n",
    "    print(i)  # 输出：1, 5, 9\n",
    "```\n",
    "\n",
    "## while\n",
    "\n",
    "```python\n",
    "condition = 1\n",
    "\n",
    "while condition < 10:\n",
    "    print(condition)\n",
    "    condition += 1\n",
    "```\n",
    "\n",
    "## if\n",
    "\n",
    "```python\n",
    "if x < y:\n",
    "    print(\"x 小于 y\")\n",
    "else:\n",
    "    print(\"x 大于等于 y\")\n",
    "\n",
    "# 多分支判断\n",
    "if x < 1:\n",
    "    print(\"x < 1\")\n",
    "elif x < 5:\n",
    "    print(\"1 <= x < 5\")\n",
    "else:\n",
    "    print(\"x >= 5\")\n",
    "```\n",
    "\n",
    "\n"
   ]
  },
  {
   "cell_type": "code",
   "execution_count": null,
   "id": "fbc121e30a2defb3",
   "metadata": {},
   "outputs": [],
   "source": [
    "import copy\n",
    "from http.client import responses\n",
    "from idlelib.browser import file_open\n",
    "\n",
    "condition = 1\n",
    "\n",
    "while condition < 10:\n",
    "    print(condition)\n",
    "    condition += 1"
   ]
  },
  {
   "cell_type": "code",
   "execution_count": null,
   "id": "f0d8c3e1-7bb9-4a26-977d-83a3446dc5a5",
   "metadata": {},
   "outputs": [],
   "source": [
    "# 函数的使用"
   ]
  },
  {
   "cell_type": "code",
   "execution_count": null,
   "id": "da353133-1e27-4743-93ae-411e435f3551",
   "metadata": {},
   "outputs": [],
   "source": [
    "def function():\n",
    "    print('This is a function ')\n",
    "\n",
    "function()"
   ]
  },
  {
   "cell_type": "code",
   "execution_count": null,
   "id": "3b2f2a18-2ba3-47b8-ac26-41501c9aa8a2",
   "metadata": {},
   "outputs": [],
   "source": [
    "def function(a,b):\n",
    "    c=a*b\n",
    "    print('这两个数乘起来等于' , c)\n",
    "\n",
    "function(1,2)"
   ]
  },
  {
   "cell_type": "code",
   "execution_count": null,
   "id": "5751f394-5d8d-442b-814d-5e78fc648b3e",
   "metadata": {},
   "outputs": [],
   "source": "# 可以知道 ， 函数中 ”未定义默认“的参数放在定义了的参数之后 ，  不行！"
  },
  {
   "cell_type": "code",
   "execution_count": null,
   "id": "2fd4727a-ed13-45c2-869e-cad3db9f1449",
   "metadata": {
    "jupyter": {
     "is_executing": true
    }
   },
   "outputs": [],
   "source": [
    "def running_car(price,color,owner='peter',rider='nigger',brand='BMW'):\n",
    "    print('price : ' , price,\n",
    "          'color :' , color,\n",
    "          'owner :' , owner,\n",
    "          'rider :' , rider,\n",
    "          'brand :' , brand)\n",
    "\n",
    "running_car(10000,'red','BMW')"
   ]
  },
  {
   "cell_type": "code",
   "execution_count": null,
   "id": "43a0fc9d-8b84-4c09-b77c-b5ed3a6832d6",
   "metadata": {},
   "outputs": [],
   "source": [
    "def running_car(price,color,brand,owner='peter',rider='nigger'):\n",
    "    print('price :' , price,\n",
    "          ',color :' , color,\n",
    "          ',owner :' , owner,\n",
    "          ',rider :' , rider,\n",
    "          ',brand :' , brand)\n",
    "\n",
    "running_car(10000,'red','BMW')\n",
    "\n"
   ]
  },
  {
   "cell_type": "code",
   "execution_count": null,
   "id": "b8a2faf38e6a6dfd",
   "metadata": {},
   "outputs": [],
   "source": [
    "# 全局和局部变量 懂的都懂 ， 所以不管了~\n"
   ]
  },
  {
   "cell_type": "code",
   "execution_count": null,
   "id": "555dc00190f3188b",
   "metadata": {},
   "outputs": [],
   "source": [
    "# 文档写入的内容会覆盖之前的内容"
   ]
  },
  {
   "cell_type": "code",
   "execution_count": null,
   "id": "73b7685232b1ae29",
   "metadata": {},
   "outputs": [],
   "source": [
    "text ='This is my first test.\\nThis is my second test.\\nThis is my third test.'\n",
    "my_file = open('my_file.txt','w')\n",
    "my_file.write(text)\n",
    "my_file.close()\n"
   ]
  },
  {
   "cell_type": "code",
   "execution_count": null,
   "id": "169685c7da460cee",
   "metadata": {},
   "outputs": [],
   "source": [
    "# append() 方法用于在文件末尾添加内容，而不是覆盖之前的内容"
   ]
  },
  {
   "cell_type": "code",
   "execution_count": null,
   "id": "6571574ba59227f6",
   "metadata": {},
   "outputs": [],
   "source": [
    "append_text='\\nThis is my fourth test.'\n",
    "my_file = open('my_file.txt','a')\n",
    "my_file.write(append_text)\n",
    "my_file.close()\n"
   ]
  },
  {
   "cell_type": "code",
   "execution_count": null,
   "id": "e8f9efb635f3c0d1",
   "metadata": {},
   "outputs": [],
   "source": [
    "# read() 方法用于读取文件的全部内容"
   ]
  },
  {
   "cell_type": "code",
   "execution_count": null,
   "id": "793f149db0c50ba5",
   "metadata": {},
   "outputs": [],
   "source": [
    "my_file = open('my_file.txt','r')\n",
    "text = my_file.read()\n",
    "print(text)\n",
    "my_file.close()\n"
   ]
  },
  {
   "cell_type": "code",
   "execution_count": null,
   "id": "27e9137ae701c7f6",
   "metadata": {},
   "outputs": [],
   "source": [
    "# readlines() 方法用于读取文件的所有行，返回一个列表，每个元素对应文件的一行"
   ]
  },
  {
   "cell_type": "code",
   "execution_count": null,
   "id": "683415dac2759fe6",
   "metadata": {},
   "outputs": [],
   "source": [
    "my_file = open('my_file.txt','r')\n",
    "lines = my_file.readlines()\n",
    "print(lines)\n",
    "my_file.close()\n"
   ]
  },
  {
   "cell_type": "code",
   "execution_count": null,
   "id": "9401716a69bdcbcd",
   "metadata": {},
   "outputs": [],
   "source": [
    "\n",
    "# class ，定义一个类 ， 内部函数使用self 来引用类的实例\n",
    "# 构造实例时　，　会自动传入（也就是说__init__是构造器　，　Car()会自动识别触发)\n"
   ]
  },
  {
   "cell_type": "code",
   "execution_count": 17,
   "id": "dce6fab1aad3e2b9",
   "metadata": {
    "ExecuteTime": {
     "end_time": "2025-10-13T02:26:27.205649Z",
     "start_time": "2025-10-13T02:26:27.114907Z"
    },
    "tags": [
     "s"
    ]
   },
   "outputs": [
    {
     "name": "stdout",
     "output_type": "stream",
     "text": [
      "this car is a  BMW  , it is  red  and its price is  10000\n"
     ]
    }
   ],
   "source": [
    "class Car:\n",
    "    brand = None\n",
    "    color = None\n",
    "    price = None\n",
    "    def __init__(self):\n",
    "        self.brand='BMW'\n",
    "        self.color='red'\n",
    "        self.price='10000'\n",
    "    def __init__(self,brand,color,\n",
    "\n",
    "    def running(self):\n",
    "        print('this car is running')\n",
    "\n",
    "\n",
    "    def info(self):\n",
    "        print('this car is a ' , self.brand , ' , it is ' , self.color , ' and its price is ' , self.price)\n",
    "\n",
    "\n",
    "car=Car()\n",
    "\n",
    "car.info()\n"
   ]
  },
  {
   "cell_type": "code",
   "execution_count": null,
   "id": "7bfe7114-a822-47f8-91ff-12f88a55b13d",
   "metadata": {},
   "outputs": [],
   "source": [
    "# 注意点　：\n",
    "        １．带默认值的参数必须放在无默认值参数之后\n",
    "        ２．无默认值的参数必须都传入\n",
    "        ３．定义的参数自带默认值可以不传入　：　但使用\"self. \" 需要自定义参数　，　且要有该参数在　（）　内\n",
    "        "
   ]
  },
  {
   "cell_type": "code",
   "execution_count": 43,
   "id": "61a7be7e-5bcb-410d-aef8-b64b60c26b84",
   "metadata": {
    "ExecuteTime": {
     "end_time": "2025-10-13T02:26:27.205649Z",
     "start_time": "2025-10-13T02:26:27.114907Z"
    }
   },
   "outputs": [
    {
     "name": "stdout",
     "output_type": "stream",
     "text": [
      "this car is running by　peter\n",
      "this car ' s brand  is   BWM  , it is  red  and its price is  10000 running by peter\n"
     ]
    }
   ],
   "source": [
    "class Car:\n",
    "    brand = 'BWM'\n",
    "    color = 'red'\n",
    "    price = 10000\n",
    "    # def __init__(self):\n",
    "    #     self.brand='BMW'\n",
    "    #     self.color='red'\n",
    "    #     self.price='10000'\n",
    "\n",
    "    def __init__(self,owner):\n",
    "          \n",
    "\n",
    "          self.own = owner\n",
    "\n",
    "    def running(self):\n",
    "        print('this car is running by　' + self.own)\n",
    "\n",
    "\n",
    "    def info(self):\n",
    "        print('this car \\' s brand  is  ' , \n",
    "              self.brand , \n",
    "              ' , it is ' , \n",
    "              self.color , \n",
    "              ' and its price is ' , self.price,\n",
    "             'running by '+ self.own)\n",
    "\n",
    "c=Car('peter')\n",
    "c.running()\n",
    "c.info()"
   ]
  },
  {
   "cell_type": "code",
   "execution_count": null,
   "id": "f6f3692a-177f-44dd-894b-57161460599c",
   "metadata": {},
   "outputs": [],
   "source": [
    "#",
    " ",
    "i",
    "n",
    "p",
    "u",
    "t",
    "返",
    "回",
    "值",
    "为",
    " ",
    "s",
    "t",
    "r",
    "i",
    "n",
    "g",
    "（",
    "p",
    "r",
    "i",
    "n",
    "t",
    "内",
    "也",
    "可",
    "以",
    "体",
    "现",
    "出",
    "）",
    "\n"
   ]
  },
  {
   "cell_type": "code",
   "execution_count": 1,
   "id": "6075a7bf-a33b-472a-bd0a-b1f8f1251603",
   "metadata": {
    "ExecuteTime": {
     "end_time": "2025-10-13T05:38:32.582507Z",
     "start_time": "2025-10-13T05:38:26.915620Z"
    }
   },
   "outputs": [
    {
     "name": "stdout",
     "output_type": "stream",
     "text": [
      "This input is  1\n",
      "\n",
      "\n"
     ]
    }
   ],
   "source": [
    "a_input = input('Please give a number : ')\n",
    "print('This input is ' , a_input)"
   ]
  },
  {
   "cell_type": "code",
   "execution_count": null,
   "id": "dac505fe-1fb7-428d-8d6c-af8e53d0ced5",
   "metadata": {},
   "outputs": [],
   "source": [
    "#",
    " ",
    "元",
    "组",
    "／",
    "数",
    "组",
    "遍",
    "历"
   ]
  },
  {
   "cell_type": "code",
   "execution_count": 8,
   "id": "546e8dc2-94a7-46cc-ba3f-313e3b377832",
   "metadata": {},
   "outputs": [
    {
     "name": "stdout",
     "output_type": "stream",
     "text": [
      "index =  0 ,number in list =  1\n",
      "index =  1 ,number in list =  2\n",
      "index =  2 ,number in list =  3\n",
      "index =  3 ,number in list =  4\n",
      "index =  4 ,number in list =  5\n",
      "index =  5 ,number in list =  6\n",
      "index =  6 ,number in list =  7\n",
      "----------------------------------\n",
      "index =  0 ,number in list =  1\n",
      "index =  1 ,number in list =  2\n",
      "index =  2 ,number in list =  3\n",
      "index =  3 ,number in list =  4\n",
      "index =  4 ,number in list =  5\n"
     ]
    }
   ],
   "source": [
    "a_tuple = (1,2,3,4,5,6,7)\n",
    "a_list = [1,2,3,4,5]\n",
    "\n",
    "for index in range(len(a_tuple)):\n",
    "    print('index = ',index, ',number in list = ' , a_tuple[index])\n",
    "print(\"----------------------------------\")\n",
    "for index in range(len(a_list)):\n",
    "    print('index = ',index, ',number in list = ' , a_list[index])"
   ]
  },
  {
   "metadata": {},
   "cell_type": "code",
   "outputs": [],
   "execution_count": null,
   "source": [
    "#",
    " ",
    "a",
    "p",
    "p",
    "e",
    "n",
    "d",
    "(",
    ")",
    " ",
    "方",
    "法",
    "用",
    "于",
    "在",
    "列",
    "表",
    "末",
    "尾",
    "添",
    "加",
    "新",
    "的",
    "元",
    "素"
   ],
   "id": "798859de732e4bbb"
  },
  {
   "metadata": {},
   "cell_type": "code",
   "outputs": [],
   "execution_count": null,
   "source": [
    "a_list.append(8)\n",
    "print(a_list)"
   ],
   "id": "18e1e3e38e11ab1"
  },
  {
   "metadata": {},
   "cell_type": "code",
   "outputs": [],
   "execution_count": null,
   "source": [
    "#",
    " ",
    "i",
    "n",
    "s",
    "e",
    "r",
    "t",
    "(",
    ")",
    " ",
    "方",
    "法",
    "用",
    "于",
    "在",
    "指",
    "定",
    "位",
    "置",
    "添",
    "加",
    "元",
    "素"
   ],
   "id": "4e7c9d3806a6d2d"
  },
  {
   "metadata": {},
   "cell_type": "code",
   "outputs": [],
   "execution_count": null,
   "source": [
    "a_list.insert(0,1)#在索引0前面的位置添加1\n",
    "print(a_list)\n"
   ],
   "id": "8ddd6ca6076cd767"
  },
  {
   "metadata": {},
   "cell_type": "code",
   "outputs": [],
   "execution_count": null,
   "source": [
    "#",
    " ",
    "r",
    "e",
    "m",
    "o",
    "v",
    "e",
    "(",
    ")",
    " ",
    "方",
    "法",
    "用",
    "于",
    "移",
    "除",
    "列",
    "表",
    "中",
    "某",
    "个",
    "值",
    "的",
    "第",
    "一",
    "个",
    "匹",
    "配",
    "项"
   ],
   "id": "65cffc788449d84e"
  },
  {
   "metadata": {},
   "cell_type": "code",
   "outputs": [],
   "execution_count": null,
   "source": [
    "a_list.remove(8)\n",
    "print(a_list)"
   ],
   "id": "de29fd7e0cad2111"
  },
  {
   "metadata": {},
   "cell_type": "code",
   "outputs": [],
   "execution_count": null,
   "source": [
    "#",
    " ",
    "列",
    "表",
    "的",
    "索",
    "引",
    "访",
    "问"
   ],
   "id": "b2bf6ce48841c053"
  },
  {
   "metadata": {},
   "cell_type": "code",
   "outputs": [],
   "execution_count": null,
   "source": [
    "\n",
    "print(a_list[-1]) #输出列表的最后一个元素\n",
    "print(a_list[:-1]) #输出列表的最后一个元素之前的所有元素\n",
    "print(a_list[1:3]) #输出索引1到索引3之间的元素（不包括索引3）\n",
    "print(a_list[-3:]) #输出索引-3到列表末尾的所有元素　，　也就是列表的最后三个元素\n",
    "print(a_list.index(3)) #输出元素3的索引,第一个匹配项的索引\n",
    "print(a_list.count(3)) #输出元素3在列表中出现的次数\n"
   ],
   "id": "bdd0a55a6c5073c1"
  },
  {
   "metadata": {},
   "cell_type": "code",
   "outputs": [],
   "execution_count": null,
   "source": [
    "# a 的排序\n",
    "a_list.sort() # 对列表进行排序\n",
    "\n",
    "a_list.sort(reverse=True) # 对列表进行降序排序\n",
    "a_list.reverse() # 对列表进行反转\n",
    "a_list.sort(reverse=False) # 对列表进行升序排序\n"
   ],
   "id": "e65aff51e7666cad"
  },
  {
   "metadata": {},
   "cell_type": "code",
   "outputs": [],
   "execution_count": null,
   "source": [
    "# 多维列表排序\n",
    "a_list = [[1, 2 , 3],\n",
    "          [3, 4 , 7],\n",
    "          [5, 6  ,2]]\n",
    "print(a_list)\n",
    "print(a_list[2][2]) # 输出多维列表的第3个元素的第3个元素\n"
   ],
   "id": "95abbb45882d1dc"
  },
  {
   "metadata": {
    "ExecuteTime": {
     "end_time": "2025-10-13T06:25:48.832338Z",
     "start_time": "2025-10-13T06:25:48.819993Z"
    }
   },
   "cell_type": "code",
   "source": [
    "# 字典\n",
    "a_dict = {'a': 1, 'b': 2, 'c': 3}\n",
    "print(a_dict)\n",
    "print(a_dict['a']) # 输出字典中键为'a'的值\n",
    "print(a_dict.keys()) # 输出字典中所有的键\n",
    "print(a_dict.values()) # 输出字典中所有的值\n",
    "print(a_dict.items()) # 输出字典中所有的键值对\n",
    "a_dict2 ={1:'a',2:'b',3:'c'} # 定义一个字典，键为1,2,3，值为'a','b','c'\n",
    "print(a_dict2[1])\n"
   ],
   "id": "7930dbe7544c4ae6",
   "outputs": [
    {
     "name": "stdout",
     "output_type": "stream",
     "text": [
      "{'a': 1, 'b': 2, 'c': 3}\n",
      "1\n",
      "dict_keys(['a', 'b', 'c'])\n",
      "dict_values([1, 2, 3])\n",
      "dict_items([('a', 1), ('b', 2), ('c', 3)])\n",
      "a\n"
     ]
    }
   ],
   "execution_count": 10
  },
  {
   "metadata": {
    "ExecuteTime": {
     "end_time": "2025-10-13T06:28:09.082227Z",
     "start_time": "2025-10-13T06:28:09.077631Z"
    }
   },
   "cell_type": "code",
   "source": [
    "import time as t\n",
    "# 仅输出\n",
    "print(t.localtime()) # 输出当前时间的时间戳\n",
    "\n",
    "from time import localtime,time,sleep # 从time模块中导入localtime,time,sleep函数\n"
   ],
   "id": "4855d2e988bce938",
   "outputs": [
    {
     "name": "stdout",
     "output_type": "stream",
     "text": [
      "time.struct_time(tm_year=2025, tm_mon=10, tm_mday=13, tm_hour=14, tm_min=28, tm_sec=9, tm_wday=0, tm_yday=286, tm_isdst=0)\n"
     ]
    }
   ],
   "execution_count": 12
  },
  {
   "metadata": {
    "ExecuteTime": {
     "end_time": "2025-10-13T06:38:32.270943Z",
     "start_time": "2025-10-13T06:38:32.258098Z"
    }
   },
   "cell_type": "code",
   "source": [
    "# 导入自定义模块\n",
    "# 如果导入到.venv/lib/python3.13/site-packages 中 ， 则可以直接导入(无需添加路径或在同一目录下)\n",
    "import test\n",
    "test.test()\n"
   ],
   "id": "ee1fb1f5ad750be1",
   "outputs": [
    {
     "name": "stdout",
     "output_type": "stream",
     "text": [
      "test\n"
     ]
    }
   ],
   "execution_count": 13
  },
  {
   "metadata": {},
   "cell_type": "code",
   "source": [
    "# continue 和 break\n",
    "# continue 用于跳过当前循环的剩余代码，直接进入下一次循环\n",
    "# break 用于跳出当前循环，结束循环\n",
    "\n",
    "a = True\n",
    "\n",
    "while a:\n",
    "    b = input('Type something :')\n",
    "    if b== '1':\n",
    "        a=False\n",
    "        print('exit')\n",
    "    else:\n",
    "        print('continue')\n",
    "print('finish while loop')"
   ],
   "id": "a1afd17a3a08f9d0",
   "execution_count": null,
   "outputs": []
  },
  {
   "metadata": {},
   "cell_type": "code",
   "outputs": [],
   "execution_count": null,
   "source": " # break 用于跳出当前循环，结束循环",
   "id": "b6909d3f0b320b8a"
  },
  {
   "metadata": {
    "ExecuteTime": {
     "end_time": "2025-10-13T06:56:54.930345Z",
     "start_time": "2025-10-13T06:56:51.288149Z"
    }
   },
   "cell_type": "code",
   "source": [
    "a = True\n",
    "while a:\n",
    "    b = input('Type something :')\n",
    "    if b== '1':\n",
    "        break\n",
    "\n",
    "    else:\n",
    "        print('continue')\n",
    "print('finish while loop')"
   ],
   "id": "23dc7d73131b6cd2",
   "outputs": [
    {
     "name": "stdout",
     "output_type": "stream",
     "text": [
      "finish while loop\n"
     ]
    }
   ],
   "execution_count": 18
  },
  {
   "metadata": {},
   "cell_type": "code",
   "outputs": [],
   "execution_count": null,
   "source": [
    "#",
    " ",
    "c",
    "o",
    "n",
    "t",
    "i",
    "n",
    "u",
    "e",
    " ",
    "用",
    "于",
    "跳",
    "过",
    "当",
    "前",
    "循",
    "环",
    "的",
    "剩",
    "余",
    "代",
    "码",
    "，",
    "直",
    "接",
    "进",
    "入",
    "下",
    "一",
    "次",
    "循",
    "环"
   ],
   "id": "20810c478f20318b"
  },
  {
   "metadata": {
    "ExecuteTime": {
     "end_time": "2025-10-13T06:59:49.568347Z",
     "start_time": "2025-10-13T06:59:47.649988Z"
    }
   },
   "cell_type": "code",
   "source": [
    "a = True\n",
    "while a:\n",
    "    b = input('Type something :')\n",
    "    if b== '1':\n",
    "        continue\n",
    "    elif b== '2':\n",
    "        print('exit')\n",
    "        break\n",
    "print('finish while loop')"
   ],
   "id": "a03a661459af7db2",
   "outputs": [
    {
     "name": "stdout",
     "output_type": "stream",
     "text": [
      "exit\n",
      "finish while loop\n"
     ]
    }
   ],
   "execution_count": 21
  },
  {
   "metadata": {},
   "cell_type": "code",
   "outputs": [],
   "execution_count": null,
   "source": [
    "#使用 my_file.close 和file.close 的区别是，my_file.close 是关闭文件对象，而file.close 是关闭文件描述符\n",
    "# 关闭文件描述符后，文件对象仍然存在，但是不能再对文件进行读写操作\n",
    "# 如果使用my_file.close() ， 则文件对象会被销毁，不能再对文件进行读写操作\n",
    "# 两者都可以关闭文件描述符，但是my_file.close() 会销毁文件对象，不能再对文件进行读写操作"
   ],
   "id": "1e9c5cd6467b30a9"
  },
  {
   "metadata": {},
   "cell_type": "code",
   "outputs": [],
   "execution_count": null,
   "source": [
    "#错误处理\n",
    "try:\n",
    "    file = open('my_file.txt','r')\n",
    "except Exception as e:              # 捕获所有异常\n",
    "    print('error : ',e )\n",
    "    response = input('Do you want to create a new file? (y/n)')\n",
    "    if response == 'y':\n",
    "        file = open('my_file.txt','w')\n",
    "    else:\n",
    "        pass\n",
    "\n",
    "else:\n",
    "    file.write('everything is ok')\n",
    "\n",
    "\n",
    "file.close()\n"
   ],
   "id": "d89c3c1f6465abb8"
  },
  {
   "metadata": {},
   "cell_type": "code",
   "outputs": [],
   "execution_count": null,
   "source": [
    "#",
    " ",
    "z",
    "i",
    "p",
    " ",
    "函",
    "数",
    "用",
    "于",
    "将",
    "多",
    "个",
    "可",
    "迭",
    "代",
    "对",
    "象",
    "打",
    "包",
    "成",
    "一",
    "个",
    "元",
    "组",
    "的",
    "迭",
    "代",
    "器"
   ],
   "id": "92401c29b178f619"
  },
  {
   "metadata": {
    "ExecuteTime": {
     "end_time": "2025-10-13T07:19:13.856871Z",
     "start_time": "2025-10-13T07:19:13.841389Z"
    }
   },
   "cell_type": "code",
   "source": [
    "a = [1,2,3,4,5]\n",
    "b = ['a','b','c','d','e']\n",
    "c = zip(a,b)\n",
    "print(c) # 输出 zip 对象\n",
    "for i in c:\n",
    "    print(i)\n",
    "\n",
    "for i,j in zip(a,b):\n",
    "    print(i/2,j+str(i))\n"
   ],
   "id": "b9582898fbc45a4b",
   "outputs": [
    {
     "name": "stdout",
     "output_type": "stream",
     "text": [
      "<zip object at 0x7f49c2328840>\n",
      "(1, 'a')\n",
      "(2, 'b')\n",
      "(3, 'c')\n",
      "(4, 'd')\n",
      "(5, 'e')\n",
      "0.5 a1\n",
      "1.0 b2\n",
      "1.5 c3\n",
      "2.0 d4\n",
      "2.5 e5\n"
     ]
    }
   ],
   "execution_count": 26
  },
  {
   "metadata": {},
   "cell_type": "code",
   "outputs": [],
   "execution_count": null,
   "source": "#lambda",
   "id": "25b2bc43aeb45f1"
  },
  {
   "metadata": {},
   "cell_type": "code",
   "source": [
    "fun2 = lambda x,y:x+y # 定义一个lambda函数，用于计算两个参数的和\n",
    "\n",
    "\n",
    "print(fun2(1,2)) # 输出3"
   ],
   "id": "a58b546372b0179a",
   "execution_count": null,
   "outputs": []
  },
  {
   "metadata": {
    "ExecuteTime": {
     "end_time": "2025-10-13T07:27:21.945277Z",
     "start_time": "2025-10-13T07:27:21.931534Z"
    }
   },
   "cell_type": "code",
   "source": [
    "\n",
    "def fun1(x,y):\n",
    "    return x+y\n",
    "\n",
    "#map 函数用于将一个函数应用到可迭代对象的每个元素上，返回一个新的可迭代对象\n",
    "#[1] 和[2] 为什么要使用[] ？\n",
    "# 因为 map 函数需要将可迭代对象作为参数，而[1] 和[2] 是两个列表，需要使用[] 来表示这是一个列表\n",
    "map(fun1,[1],[2])\n",
    "\n",
    "list(map(fun1,[1],[2]))\n",
    "\n",
    "list(map(fun1,[1,3,4],[2,4,6]))# 输出[3,7,10]\n"
   ],
   "id": "e4386377f4f00bf7",
   "outputs": [
    {
     "data": {
      "text/plain": [
       "[3, 7, 10]"
      ]
     },
     "execution_count": 29,
     "metadata": {},
     "output_type": "execute_result"
    }
   ],
   "execution_count": 29
  },
  {
   "metadata": {},
   "cell_type": "code",
   "outputs": [],
   "execution_count": null,
   "source": "# 浅复制 && 深复制",
   "id": "64b26e260838e52b"
  },
  {
   "metadata": {
    "ExecuteTime": {
     "end_time": "2025-10-13T07:40:11.179520Z",
     "start_time": "2025-10-13T07:40:11.168738Z"
    }
   },
   "cell_type": "code",
   "source": [
    "# 浅复制\n",
    "import copy\n",
    "a=[1,2,3]\n",
    "b=a\n",
    "\n",
    "print('a 的内存地址 : ',id(a)) # 输出 a 的内存地址\n",
    "print('b 的内存地址 : ',id(b)) # 输出 b 的内存地址\n",
    "\n",
    "# c=a.copy() # 浅复制 a 到 c\n",
    "# print('c 的内存地址 : ',id(c)) # 输出 c 的内存地址\n",
    "\n",
    "c=copy.copy(a) # 浅复制 a 到 c (需导入 copy 模块, 但a.copy() 无需导入 copy 模块, 因为 a.copy() 是列表的方法)\n",
    "print('c 的内存地址 : ',id(c)) # 输出 c 的内存地址\n",
    "\n",
    "#当使用copy.copy() 时，只复制了 a 的第一层元素，而 a 的第二层元素是引用，所以 c 的第二层元素和 a 的第二层元素是同一个对象\n",
    "\n",
    "# 深复制\n",
    "d=copy.deepcopy(a) # 深复制 a 到 d (需导入 copy 模块)\n",
    "print('d 的内存地址 : ',id(d)) # 输出 d 的内存地址\n"
   ],
   "id": "b30c58dd146be456",
   "outputs": [
    {
     "name": "stdout",
     "output_type": "stream",
     "text": [
      "a 的内存地址 :  139954765914624\n",
      "b 的内存地址 :  139954765914624\n",
      "c 的内存地址 :  139954765908096\n",
      "d 的内存地址 :  139954765914688\n"
     ]
    }
   ],
   "execution_count": 60
  },
  {
   "metadata": {},
   "cell_type": "code",
   "outputs": [],
   "execution_count": null,
   "source": "# pickle : 用于将 Python 对象序列化为字节流，或从字节流中反序列化出 Python 对象",
   "id": "27614553804107f0"
  },
  {
   "metadata": {
    "ExecuteTime": {
     "end_time": "2025-10-13T08:05:52.356619Z",
     "start_time": "2025-10-13T08:05:52.348313Z"
    }
   },
   "cell_type": "code",
   "source": [
    "import pickle\n",
    "\n",
    "# a = [1,2,3,4,5]\n",
    "# b = pickle.dumps(a) # 将 a 序列化为字节流\n",
    "# print(b) # 输出 b\n",
    "#\n",
    "# c = pickle.loads(b) # 从字节流中反序列化出 Python 对象\n",
    "# print(c) # 输出 c\n",
    "\n",
    "a_dict = {'a': 1, 'b': [1,3,4], 'c':{1:2,'d':4} }\n",
    "#创建pickle_example.pickle 文件\n",
    "# flie = open('pickle_example.pickle','wb') # wb : 以二进制写入模式打开文件\n",
    "#\n",
    "# file = pickle.dumps(a_dict) # 将 a_dict 序列化为字节流并赋值给 file , dumps : 将 Python 对象序列化为字节流\n",
    "# flie.write(file) # 将 file 写入到 pickle_example.pickle 文件中\n",
    "\n",
    "# flie.close() # 关闭文件\n",
    "\n",
    "# flie = open('pickle_example.pickle','r') # r : 以文本读取模式打开文件\n",
    "# flie = open('pickle_example.pickle','w') # w : 以文本写入模式打开文件\n",
    "# flie = open('pickle_example.pickle','wb') # wb : 以二进制写入模式打开文件\n",
    "\n",
    "# flie = open('pickle_example.pickle','rb') # rb : 以二进制读取模式打开文件\n",
    "#file.close()\n",
    "with open('pickle_example.pickle','rb') as flie:  #可以不用关闭文件, 因为 with 语句会自动关闭文件\n",
    "    a_dict = pickle.load(flie)  # 从文件中反序列化出 Python 对象\n",
    "    print(a_dict) # 输出 a_dict\n",
    "\n",
    "\n"
   ],
   "id": "169bc655f8b2b5dd",
   "outputs": [
    {
     "name": "stdout",
     "output_type": "stream",
     "text": [
      "{'a': 1, 'b': [1, 3, 4], 'c': {1: 2, 'd': 4}}\n"
     ]
    }
   ],
   "execution_count": 66
  },
  {
   "metadata": {},
   "cell_type": "code",
   "outputs": [],
   "execution_count": null,
   "source": [
    "# set 集合 : 无序不重复元素的序列\n",
    "\n",
    "# 只能单独加入元素, 不能加入列表或元组\n",
    "\n",
    "# set 方法有 :\n",
    "# add(), clear(), copy(), difference(), difference_update(),\n",
    "# discard(), intersection(), intersection_update(), isdisjoint(),\n",
    "# issubset(), issuperset(), pop(), remove(),\n",
    "# symmetric_difference(), symmetric_difference_update(), union(), update()\n"
   ],
   "id": "1339ccfbeafa918d"
  },
  {
   "metadata": {
    "ExecuteTime": {
     "end_time": "2025-10-13T08:20:52.514782Z",
     "start_time": "2025-10-13T08:20:52.512138Z"
    }
   },
   "cell_type": "code",
   "source": [
    "a = {1,1,2,3,3,4,5 ,7,7,8,8,6,6}\n",
    "print(set(a)) # 输出 {1,2,3,4,5}\n",
    "print(type(set(a))) #输出集合的类型 : <class 'set'>\n"
   ],
   "id": "bb5ab0f93e065476",
   "outputs": [
    {
     "name": "stdout",
     "output_type": "stream",
     "text": [
      "{1, 2, 3, 4, 5, 6, 7, 8}\n",
      "<class 'set'>\n"
     ]
    }
   ],
   "execution_count": 69
  },
  {
   "metadata": {},
   "cell_type": "code",
   "outputs": [],
   "execution_count": null,
   "source": "# 正则表达",
   "id": "f37e6fae9c237ddb"
  },
  {
   "metadata": {},
   "cell_type": "code",
   "execution_count": null,
   "source": [
    "import re\n",
    "\n",
    "#简单Python匹配\n",
    "pattern1 = \"cat\"\n",
    "pattern2 = \"dog\"\n",
    "string = \"cat is a animal\"\n",
    "print(pattern1 in string) # 输出 True\n",
    "print(pattern2 in string) # 输出 False\n",
    "\n",
    "\n",
    "# 正则表达式匹配\n",
    "pattern1 = \"cat\"\n",
    "pattern2 = \"dog\"\n",
    "string = \"cat is a animal\"\n",
    "print(re.search(pattern1,string)) # 输出 <re.Match object; span=(0, 3), match='cat'>\n",
    "print(re.search(pattern2,string)) # 输出 None\n"
   ],
   "id": "82bba317c70fd7e7",
   "outputs": []
  },
  {
   "metadata": {},
   "cell_type": "code",
   "source": [
    "import re\n",
    "#匹配多种可能使用[]\n",
    "ptn = r\"r[au]n\"  # 匹配 run 或 ran\n",
    "ptn2= r\"r[a-z]n\"  # 匹配 run 或 ran 等所有小写字母开头的单词\n",
    "\n",
    "print(re.search(ptn,'run')) # 输出 <re.Match object; span=(0, 3), match='run'>\n",
    "print(re.search(ptn2,'rcn')) # 输出 <re.Match object; span=(0, 3), match='run'>\n",
    "\n",
    "# S 匹配任意非换行符的字符 , s 匹配任意字符包括换行符\n",
    "print(re.search(r\"r\\sn\",\"r\\nn r4n\")) # 输出 <re.Match object; span=(0, 3), match='r\\nn'>\n",
    "print(re.search(r\"r\\Sn\",\"r\\nn r4n\")) # 输出 <re.Match object; span=(4, 7), match='r4n'>\n",
    "\n",
    "# W 匹配任意非字母、数字、下划线的字符 , w 匹配任意字母、数字、下划线的字符\n",
    "print(re.search(r\"r\\wn\",\"r\\nn r4n\")) # 输出 <re.Match object; span=(0, 3), match='r\\nn'>\n",
    "print(re.search(r\"r\\Wn\",\"r4n\")) # 输出 <re.Match object; span=(0, 3), match='r4n'>\n",
    "\n",
    "# B 匹配 , b 匹配任意空白字符的字符\n",
    "print(re.search(r\"r\\brun\\b\",\"dogs run to cat\")) # 输出 <re.Match object; span=(4, 7), match='run'>\n",
    "print(re.search(r\"r\\Brun\\B\",\"dogs  run  to cat\"))  # 输出 <re.Match object; span=(5, 8), match='run'>\n",
    "\n",
    "#  \\ 转义字符\n",
    "print(re.search(r\"runs\\\\\",\"runs\\ r4n\")) # 输出 <re.Match object; span=(0, 4), match='runs\\\\'>\n",
    "\n",
    "#  . 匹配任意字符包括换行符\n",
    "print(re.search(r\"runs.\",\"runs\\ r4n\")) # 输出 <re.Match object; span=(0, 4), match='runs\\'>\n",
    "print(re.search(r\"runs.\",\"runs- r4n\")) # 输出 <re.Match object; span=(0, 4), match='runs-'>\n",
    "\n",
    "#  ^ 匹配字符串的开头\n",
    "print(re.search(r\"^runs\",\"runs\\ r4n\")) # 输出 <re.Match object; span=(0, 4), match='runs'>\n",
    "print(re.search(r\"^runs\",\"r4n runs\")) # 输出 None\n",
    "\n",
    "#  $ 匹配字符串的结尾\n",
    "print(re.search(r\"runs$\",\"runs\\ r4n\")) # 输出 None\n",
    "print(re.search(r\"runs$\",\"r4n runs\")) # 输出 <re.Match object; span=(2, 6), match='runs'>\n"
   ],
   "id": "cc133f5632be97bf",
   "execution_count": null,
   "outputs": []
  },
  {
   "metadata": {},
   "cell_type": "code",
   "source": [
    "\n",
    "# ? 匹配 0 个或 1 个前面的字符\n",
    "print(re.search(r\"run(s)?\",\"a dog runs to cat\")) # 输出 <re.Match object; span=(0, 4), match='runs'>\n",
    "print(re.search(r\"run(ning)?\",\" dogs running to cat\")) # 输出 <re.Match object; span=(2, 6), match='runs'>\n"
   ],
   "id": "9a5aa18a38266de8",
   "execution_count": null,
   "outputs": []
  },
  {
   "metadata": {
    "ExecuteTime": {
     "end_time": "2025-10-13T08:59:21.042529Z",
     "start_time": "2025-10-13T08:59:21.040067Z"
    }
   },
   "cell_type": "code",
   "source": [
    "\n",
    "# 多行匹配\n",
    "string = \"\"\"\n",
    "a dog runs to cat\n",
    "cat runs to dog\n",
    "\"\"\"\n",
    "print(re.search(r\"^a.*runs.*to.*cat$\",string,flags=re.M)) # 输出 <re.Match object; span=(0, 24), match='a dog runs to cat'>\n",
    "print(re.search(r\"runs.*to.*dog$\",string,flags=re.M)) # 输出 <re.Match object; span=(25, 49), match='a cat runs to dog'>\n"
   ],
   "id": "b3d3a6c96d537d60",
   "outputs": [
    {
     "name": "stdout",
     "output_type": "stream",
     "text": [
      "<re.Match object; span=(1, 18), match='a dog runs to cat'>\n",
      "<re.Match object; span=(23, 34), match='runs to dog'>\n"
     ]
    }
   ],
   "execution_count": 80
  },
  {
   "metadata": {},
   "cell_type": "code",
   "source": [
    "# * 匹配 0 个或多个前面的字符\n",
    "print(re.search(r\"o*\",\"a dog runs to cat\"))\n",
    "print(re.search(r\"12*\",\" 123131222\")) # 输出 <re.Match object; span=(1, 4), match='123'>"
   ],
   "id": "1f6b437eb984bf8e",
   "execution_count": null,
   "outputs": []
  },
  {
   "metadata": {
    "ExecuteTime": {
     "end_time": "2025-10-13T09:07:40.971518Z",
     "start_time": "2025-10-13T09:07:40.968486Z"
    }
   },
   "cell_type": "code",
   "source": [
    "\n",
    "#  + 匹配 1 个或多个前面的字符\n",
    "print(re.search(r\"12+\",\" 123131222\"))\n",
    "\n",
    "#  {} 匹配指定次数的前面的字符\n",
    "print(re.search(r\"12{2,4}\",\" 123131222\")) # 输出 <re.Match object; span=(1, 4), match='123'>\n",
    "\n",
    "\n",
    "#group\n",
    "match = (re.search(r\"(\\d+), Date: (.+)\", \"12345, Date: 2023/04/05\"))\n",
    "print(match.group(1)) # 输出 12345\n",
    "print(match.group(2)) # 输出 2023/04/05\n",
    "\n",
    "match2 =(re.search(r\"(?P<id>\\d+), Date: (?P<date>.+)\",match.group(1)))# ?P<name> 命名分组\n",
    "print(match2.group(\"id\")) # 输出 12345\n",
    "print(match2.group(\"date\")) # 输出 2023/04/05\n"
   ],
   "id": "d3c3e75159f5b583",
   "outputs": [
    {
     "name": "stdout",
     "output_type": "stream",
     "text": [
      "<re.Match object; span=(1, 3), match='12'>\n",
      "<re.Match object; span=(6, 10), match='1222'>\n",
      "12345\n",
      "2023/04/05\n"
     ]
    }
   ],
   "execution_count": 89
  },
  {
   "metadata": {
    "ExecuteTime": {
     "end_time": "2025-10-13T09:10:52.584549Z",
     "start_time": "2025-10-13T09:10:52.582391Z"
    }
   },
   "cell_type": "code",
   "source": [
    "# findall 匹配所有符合条件的字符串\n",
    "print(re.findall(r\"r[a|u]n\",\" ran run ren\")) # 输出 ['ran', 'run']\n"
   ],
   "id": "2aca3e9c68964afa",
   "outputs": [
    {
     "name": "stdout",
     "output_type": "stream",
     "text": [
      "['ran', 'run']\n"
     ]
    }
   ],
   "execution_count": 91
  },
  {
   "metadata": {
    "ExecuteTime": {
     "end_time": "2025-10-13T09:12:20.117540Z",
     "start_time": "2025-10-13T09:12:20.115542Z"
    }
   },
   "cell_type": "code",
   "source": [
    "# 替换\n",
    "print(re.sub(r\"r[a|u]n\",\"jump\",\" ran run ren\")) # 输出 jump jump ren\n"
   ],
   "id": "4fbb400102505e97",
   "outputs": [
    {
     "name": "stdout",
     "output_type": "stream",
     "text": [
      " jump jump ren\n"
     ]
    }
   ],
   "execution_count": 92
  },
  {
   "metadata": {
    "ExecuteTime": {
     "end_time": "2025-10-13T09:15:38.797524Z",
     "start_time": "2025-10-13T09:15:38.795202Z"
    }
   },
   "cell_type": "code",
   "source": [
    "#分裂\n",
    "print(re.split(r\"[:,\\.,]\",\"a:b,c.d\")) # 输出 ['a dog', ' runs', ' to cat']\n"
   ],
   "id": "b36d8bb8a709ac45",
   "outputs": [
    {
     "name": "stdout",
     "output_type": "stream",
     "text": [
      "['a', 'b', 'c', 'd']\n"
     ]
    }
   ],
   "execution_count": 95
  },
  {
   "metadata": {},
   "cell_type": "code",
   "outputs": [],
   "execution_count": null,
   "source": [
    "#compile 编译正则表达式\n",
    "ptn = re.compile(r\"r[a|u]n\")\n",
    "print(ptn.search(\"ran run ren\")) # 输出 <re.Match object; span=(0, 3), match='ran'>\n"
   ],
   "id": "59ade03e1a38c25f"
  }
 ],
 "metadata": {
  "kernelspec": {
   "display_name": "Python 3 (ipykernel)",
   "language": "python",
   "name": "python3"
  },
  "language_info": {
   "codemirror_mode": {
    "name": "ipython",
    "version": 3
   },
   "file_extension": ".py",
   "mimetype": "text/x-python",
   "name": "python",
   "nbconvert_exporter": "python",
   "pygments_lexer": "ipython3",
   "version": "3.13.7"
  }
 },
 "nbformat": 4,
 "nbformat_minor": 5
}
