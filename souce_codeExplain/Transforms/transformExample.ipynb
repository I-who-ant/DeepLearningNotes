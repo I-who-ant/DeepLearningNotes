{
 "cells": [
  {
   "cell_type": "markdown",
   "id": "3194793a",
   "metadata": {},
   "source": [
    "\n",
    "# torchvision.transforms 方法实战笔记\n",
    "\n",
    "本笔记演示 `torchvision.transforms.transforms` 模块中每个公开方法的用途、对图像的影响以及在项目 `dataset/arch_linux` 图像上的具体效果，便于快速对照与复用。\n"
   ]
  },
  {
   "cell_type": "markdown",
   "metadata": {},
   "source": [
    "## 变换类型速览\n",
    "\n",
    "| 分类 | 代表 API | 功能概述 | 常见用途 |\n",
    "| --- | --- | --- | --- |\n",
    "| 几何类 | `RandomResizedCrop`, `ElasticTransform`, `RandomPerspective` | 旋转、缩放、裁剪、弹性形变等，改变空间结构 | 模拟视角/位置变化，增强几何鲁棒性 |\n",
    "| 颜色/光照 | `ColorJitter`, `RandomAutocontrast`, `RandomSolarize` | 调整亮度、对比度、颜色、曝光 | 对抗不同光照、摄像头色偏 |\n",
    "| 噪声/遮挡 | `RandomErasing`, `GaussianBlur`, `RandomPosterize` | 引入遮挡、模糊或量化噪声 | 模拟遮挡、压缩损失、失焦 |\n",
    "| 结构化组合 | `Compose`, `RandomApply`, `RandomChoice`, `RandomOrder` | 将基础变换按顺序或概率组合 | 构建可复用增广流水线，控制执行逻辑 |\n",
    "| 数据类型 | `ToTensor`, `PILToTensor`, `ConvertImageDtype`, `Normalize` | 模式/数据类型转换与归一化 | 构建符合模型输入的数据、支持混合精度 |\n",
    "| TVTensor 生态 | `v2.ToImage`, `tv_tensors.Image` 等 | 携带尺寸/坐标元数据的张量类型 | 同步处理图像、框、关键点、掩码 |\n",
    "| 自定义扩展 | `Lambda`, `RandomTransforms` | 注入定制逻辑或随机策略 | 针对特殊需求快速试验 |\n",
    "| 多视角裁剪 | `FiveCrop`, `TenCrop` | 一次生成多个裁剪视角 | 测试时平均，提升稳定性 |"
   ]
  },
  {
   "cell_type": "code",
   "execution_count": null,
   "id": "e183e87675d5769",
   "metadata": {},
   "outputs": [],
   "source": [
    "\n",
    "from pathlib import Path\n",
    "from PIL import Image\n",
    "import os\n",
    "import numpy as np\n",
    "import torch\n",
    "import matplotlib.pyplot as plt\n",
    "import torchvision.transforms as T\n",
    "import torchvision.transforms.transforms as TT\n",
    "\n",
    "os.environ.setdefault('OMP_NUM_THREADS', '1')\n",
    "torch.set_num_threads(1)\n",
    "\n",
    "DATASET_ROOT = Path('dataset/arch_linux')\n",
    "SAMPLE_IMAGE = sorted(DATASET_ROOT.glob('*.png'))[0]\n",
    "base_pil = Image.open(SAMPLE_IMAGE).convert('RGB')\n",
    "base_tensor = T.ToTensor()(base_pil)\n",
    "\n",
    "plt.rcParams['figure.figsize'] = (8, 4)\n",
    "plt.rcParams['figure.facecolor'] = 'white'\n",
    "\n",
    "# 辅助函数：获取基础 PIL 图像和张量副本\n",
    "def get_base_pil():\n",
    "    return base_pil.copy()\n",
    "\n",
    "# 辅助函数：获取基础张量副本\n",
    "def get_base_tensor():\n",
    "    return base_tensor.clone()\n",
    "\n",
    "# 辅助函数：重置随机种子\n",
    "def reset_seed(seed: int = 42):\n",
    "    torch.manual_seed(seed)\n",
    "\n",
    "# 辅助函数：将张量或 PIL 图像转换为可显示的 PIL 图像\n",
    "def to_displayable(img):\n",
    "    if isinstance(img, Image.Image):\n",
    "        return img\n",
    "    if isinstance(img, torch.Tensor):\n",
    "        tensor = img.detach().clone()\n",
    "        if tensor.dtype not in (torch.float32, torch.float64):\n",
    "            tensor = tensor.float()\n",
    "        if tensor.ndim == 3 and tensor.shape[0] in (1, 3):\n",
    "            tensor = tensor.clamp(0, 1)\n",
    "            return T.ToPILImage()(tensor)\n",
    "        raise TypeError(f'Unsupported tensor shape: {tensor.shape}')\n",
    "    raise TypeError(f'Unsupported type: {type(img)}')\n",
    "\n",
    "# 辅助函数：显示图像网格, 支持 PIL 图像和张量\n",
    "def show_images(images, titles=None, cols=2, figsize=(8, 4)):\n",
    "    pil_images = [to_displayable(img) for img in images]\n",
    "    total = len(pil_images)\n",
    "    if total == 0:\n",
    "        return\n",
    "    cols = min(cols, total)\n",
    "    rows = (total + cols - 1) // cols\n",
    "    fig, axes = plt.subplots(rows, cols, figsize=figsize)\n",
    "    if isinstance(axes, np.ndarray):\n",
    "        axes = axes.reshape(-1)\n",
    "    else:\n",
    "        axes = np.array([axes], dtype=object)\n",
    "    titles = list(titles or [])\n",
    "    if len(titles) < total:\n",
    "        titles.extend([''] * (total - len(titles)))\n",
    "    for idx, img in enumerate(pil_images):\n",
    "        ax = axes[idx]\n",
    "        ax.imshow(img)\n",
    "        ax.axis('off')\n",
    "        if titles[idx]:\n",
    "            ax.set_title(titles[idx])\n",
    "    for ax in axes[len(pil_images):]:\n",
    "        ax.axis('off')\n",
    "    plt.tight_layout()\n"
   ]
  },
  {
   "cell_type": "markdown",
   "id": "e8ece0f0",
   "metadata": {},
   "source": [
    "\n",
    "### CenterCrop 中心裁剪\n",
    "- **目的**：从图像中心裁剪指定尺寸，常用于推理阶段去除边缘噪声。\n",
    "- **对图片的作用**：保留中心区域，剔除四周背景，让主体更突出。\n"
   ]
  },
  {
   "cell_type": "code",
   "execution_count": null,
   "id": "1237e90d062b8cea",
   "metadata": {},
   "outputs": [],
   "source": [
    "\n",
    "\n",
    "reset_seed()\n",
    "transform = T.CenterCrop((512, 512))\n",
    "original = get_base_pil()\n",
    "result = transform(original)\n",
    "show_images([original, result], [\"原图\", \"CenterCrop 后\"], cols=2)\n"
   ]
  },
  {
   "cell_type": "markdown",
   "id": "098d7eda",
   "metadata": {},
   "source": [
    "\n",
    "### ColorJitter 颜色抖动\n",
    "- **目的**：随机扰动亮度、对比度、饱和度和色相，模拟不同拍摄光照。\n",
    "- **对图片的作用**：输出颜色变化的版本，让模型对光照和颜色更鲁棒。\n"
   ]
  },
  {
   "cell_type": "code",
   "execution_count": null,
   "id": "a141f1fe",
   "metadata": {},
   "outputs": [],
   "source": [
    "\n",
    "reset_seed()\n",
    "transform = T.ColorJitter(brightness=0.3, contrast=0.3, saturation=0.3, hue=0.05)\n",
    "original = get_base_pil()\n",
    "result = transform(original)\n",
    "show_images([original, result], [\"原图\", \"ColorJitter 后\"], cols=2)\n"
   ]
  },
  {
   "cell_type": "markdown",
   "id": "bc536dac",
   "metadata": {},
   "source": [
    "\n",
    "### Compose 复合组合\n",
    "- **目的**：顺序组合多个基本变换，构建可复用的数据增强流水线。\n",
    "- **对图片的作用**：依次调整尺寸、翻转与颜色，得到规范化的增强图像。\n"
   ]
  },
  {
   "cell_type": "code",
   "execution_count": null,
   "id": "760b4c10",
   "metadata": {},
   "outputs": [],
   "source": [
    "\n",
    "reset_seed()\n",
    "pipeline = T.Compose([\n",
    "    T.Resize((512, 512)),\n",
    "    T.RandomHorizontalFlip(p=1.0),\n",
    "    T.ColorJitter(brightness=0.2, contrast=0.2, saturation=0.2, hue=0.02),\n",
    "])\n",
    "original = get_base_pil()\n",
    "result = pipeline(original)\n",
    "show_images([original, result], [\"原图\", \"Compose 流水线结果\"], cols=2)\n"
   ]
  },
  {
   "cell_type": "markdown",
   "id": "770d8b6a",
   "metadata": {},
   "source": [
    "\n",
    "### ConvertImageDtype 图像数据类型转换\n",
    "- **目的**：将张量图像转换为指定 dtype 并自动缩放数值范围。\n",
    "- **对图片的作用**：示例中把 float32 转为 float16，便于混合精度训练。\n"
   ]
  },
  {
   "cell_type": "code",
   "execution_count": null,
   "id": "1f5d8822",
   "metadata": {},
   "outputs": [],
   "source": [
    "\n",
    "import torch\n",
    "reset_seed()\n",
    "tensor = get_base_tensor()\n",
    "transform = TT.ConvertImageDtype(torch.float16)\n",
    "converted = transform(tensor)\n",
    "print(f\"原始 dtype: {tensor.dtype}, 转换后: {converted.dtype}\")\n",
    "show_images([tensor, converted.float()], [\"原始张量\", \"float16 张量\"], cols=2)\n"
   ]
  },
  {
   "cell_type": "markdown",
   "id": "b91514a8",
   "metadata": {},
   "source": [
    "\n",
    "### ElasticTransform 弹性形变\n",
    "- **目的**：对张量图像施加弹性位移，模拟柔性扭曲场景。\n",
    "- **对图片的作用**：局部区域发生非线性形变，逼近摄像抖动或组织形变。\n"
   ]
  },
  {
   "cell_type": "code",
   "execution_count": null,
   "id": "ea0914cd",
   "metadata": {},
   "outputs": [],
   "source": [
    "\n",
    "reset_seed()\n",
    "transform = T.ElasticTransform(alpha=50.0, sigma=5.0)\n",
    "source = get_base_tensor()\n",
    "warped = transform(source)\n",
    "show_images([source, warped], [\"原始张量\", \"ElasticTransform 后\"], cols=2)\n"
   ]
  },
  {
   "cell_type": "markdown",
   "id": "d32ed5b5",
   "metadata": {},
   "source": [
    "\n",
    "### FiveCrop 五点裁剪\n",
    "- **目的**：返回左上、右上、左下、右下以及中心裁剪，共五个视角。\n",
    "- **对图片的作用**：一次性生成多个裁剪，用于测试时平均预测提高稳定性。\n"
   ]
  },
  {
   "cell_type": "code",
   "execution_count": null,
   "id": "5cf44e17",
   "metadata": {},
   "outputs": [],
   "source": [
    "\n",
    "reset_seed()\n",
    "transform = T.FiveCrop(size=256)\n",
    "original = get_base_pil()\n",
    "crops = transform(original)\n",
    "show_images([original] + list(crops), [\"原图\"] + [f\"裁剪 {i+1}\" for i in range(len(crops))], cols=3, figsize=(12, 8))\n"
   ]
  },
  {
   "cell_type": "markdown",
   "id": "5422aca7",
   "metadata": {},
   "source": [
    "\n",
    "### GaussianBlur 高斯模糊\n",
    "- **目的**：以随机 sigma 执行高斯模糊，模拟失焦或低清成像。\n",
    "- **对图片的作用**：输出图像更平滑，细节被软化，有助于提升鲁棒性。\n"
   ]
  },
  {
   "cell_type": "code",
   "execution_count": null,
   "id": "0ff65fa9",
   "metadata": {},
   "outputs": [],
   "source": [
    "\n",
    "reset_seed()\n",
    "transform = T.GaussianBlur(kernel_size=9, sigma=(0.5, 1.5))\n",
    "original = get_base_pil()\n",
    "blurred = transform(original)\n",
    "show_images([original, blurred], [\"原图\", \"GaussianBlur 后\"], cols=2)\n"
   ]
  },
  {
   "cell_type": "markdown",
   "id": "b2d0a7d4",
   "metadata": {},
   "source": [
    "\n",
    "### Grayscale 灰度化\n",
    "- **目的**：将图像转换为灰度，可选择输出 1 或 3 个通道。\n",
    "- **对图片的作用**：示例保留 3 通道灰度图，强调亮度纹理。\n"
   ]
  },
  {
   "cell_type": "code",
   "execution_count": null,
   "id": "034b08cc",
   "metadata": {},
   "outputs": [],
   "source": [
    "\n",
    "reset_seed()\n",
    "transform = T.Grayscale(num_output_channels=3)\n",
    "original = get_base_pil()\n",
    "gray = transform(original)\n",
    "show_images([original, gray], [\"原图\", \"灰度图\"], cols=2)\n"
   ]
  },
  {
   "cell_type": "markdown",
   "id": "e2af71aa",
   "metadata": {},
   "source": [
    "\n",
    "### Lambda 自定义 Lambda 变换\n",
    "- **目的**：支持自定义 Python 函数插入到变换流水线。\n",
    "- **对图片的作用**：示例将像素截断到 0.8 以下，抑制过亮区域。\n"
   ]
  },
  {
   "cell_type": "code",
   "execution_count": null,
   "id": "57c67908",
   "metadata": {},
   "outputs": [],
   "source": [
    "\n",
    "reset_seed()\n",
    "transform = TT.Lambda(lambda tensor: tensor.clamp(0.0, 0.8))\n",
    "source = get_base_tensor()\n",
    "processed = transform(source)\n",
    "show_images([source, processed], [\"原始张量\", \"截断亮度\"], cols=2)\n"
   ]
  },
  {
   "cell_type": "markdown",
   "id": "5ca67af9",
   "metadata": {},
   "source": [
    "\n",
    "### LinearTransformation 线性变换\n",
    "- **目的**：对展平后的张量执行线性变换，可实现白化或投影。\n",
    "- **对图片的作用**：示例对 32×32 缩小图像减去常量均值，突出暗部细节。\n"
   ]
  },
  {
   "cell_type": "code",
   "execution_count": null,
   "id": "6942f364",
   "metadata": {},
   "outputs": [],
   "source": [
    "\n",
    "import torch\n",
    "reset_seed()\n",
    "resize_small = T.Resize((32, 32))\n",
    "small_pil = resize_small(get_base_pil())\n",
    "small_tensor = T.ToTensor()(small_pil)\n",
    "numel = small_tensor.numel()\n",
    "matrix = torch.eye(numel)\n",
    "mean_vector = torch.full((numel,), 0.4)\n",
    "transform = TT.LinearTransformation(matrix, mean_vector)\n",
    "transformed = transform(small_tensor)\n",
    "visual = transformed.clone()\n",
    "visual = (visual - visual.min()) / (visual.max() - visual.min() + 1e-6)\n",
    "show_images([small_pil, T.ToPILImage()(visual)], [\"缩小原图\", \"线性变换后\"], cols=2)\n"
   ]
  },
  {
   "cell_type": "markdown",
   "id": "d4b50d09",
   "metadata": {},
   "source": [
    "\n",
    "### Normalize 标准化\n",
    "- **目的**：按照给定均值与方差对张量执行按通道标准化。\n",
    "- **对图片的作用**：输出符合预训练模型分布，同时打印新统计量供检查。\n"
   ]
  },
  {
   "cell_type": "code",
   "execution_count": null,
   "id": "cadcfc3b34c5548b",
   "metadata": {},
   "outputs": [],
   "source": [
    "\n",
    "import torch\n",
    "reset_seed() # 重置随机种子，确保结果可重复\n",
    "source = get_base_tensor() # 原始张量\n",
    "normalize = T.Normalize(mean=[0.485, 0.456, 0.406], std=[0.229, 0.224, 0.225]) # 归一化变换\n",
    "normalized = normalize(source.clone()) # 归一化后的张量\n",
    "print(\"归一化前均值:\", source.mean(dim=(1, 2))) # 打印原始张量的通道均值\n",
    "print(\"归一化后均值:\", normalized.mean(dim=(1, 2))) # 打印归一化张量的通道均值\n",
    "visual = normalized.clone() # 可视化张量，需要将归一化后的张量转换为 PIL 图像\n",
    "\n",
    "# 归一化到 0-1 范围，避免显示问题\n",
    "visual = (visual - visual.min()) / (visual.max() - visual.min() + 1e-6)\n",
    "\n",
    "# 可视化归一化后的张量\n",
    "show_images([source, visual], [\"原始张量\", \"Normalize 后\"], cols=2)\n"
   ]
  },
  {
   "cell_type": "markdown",
   "id": "f3be5cc9eacb8943",
   "metadata": {},
   "source": [
    "\n",
    "### PILToTensor PIL 转张量\n",
    "- **目的**：将 PIL 图像转换为保持 0-255 范围的 uint8 张量。\n",
    "- **对图片的作用**：示例展示形状与 dtype，便于后续自定义张量处理。\n"
   ]
  },
  {
   "cell_type": "code",
   "execution_count": null,
   "id": "844a4252ab4454cf",
   "metadata": {},
   "outputs": [],
   "source": [
    "\n",
    "tensor = T.PILToTensor()(get_base_pil())\n",
    "print(f\"输出 dtype: {tensor.dtype}, 形状: {tuple(tensor.shape)}\")\n",
    "show_images([tensor.float() / 255.0], [\"PILToTensor 结果\"])\n"
   ]
  },
  {
   "cell_type": "markdown",
   "id": "e7578776",
   "metadata": {},
   "source": [
    "\n",
    "### Pad 填充\n",
    "- **目的**：在图像四周补边，可用于裁剪前保留更多背景。\n",
    "- **对图片的作用**：示例使用常量填充 40 像素，扩展画布大小。\n"
   ]
  },
  {
   "cell_type": "code",
   "execution_count": null,
   "id": "e60a254f",
   "metadata": {},
   "outputs": [],
   "source": [
    "\n",
    "reset_seed()\n",
    "transform = T.Pad(padding=40, fill=30, padding_mode=\"constant\")\n",
    "original = get_base_pil()\n",
    "padded = transform(original)\n",
    "show_images([original, padded], [\"原图\", \"Pad 后\"], cols=2)\n"
   ]
  },
  {
   "cell_type": "markdown",
   "id": "5b455654",
   "metadata": {},
   "source": [
    "\n",
    "### RandomAdjustSharpness 随机锐度调整\n",
    "- **目的**：随机调整锐度，强化或柔化边缘细节。\n",
    "- **对图片的作用**：示例将锐度提升 1.5 倍，增强图像边缘。\n"
   ]
  },
  {
   "cell_type": "code",
   "execution_count": null,
   "id": "e6db59a2",
   "metadata": {},
   "outputs": [],
   "source": [
    "\n",
    "reset_seed()\n",
    "transform = T.RandomAdjustSharpness(sharpness_factor=1.5, p=1.0)\n",
    "original = get_base_pil()\n",
    "sharpened = transform(original)\n",
    "show_images([original, sharpened], [\"原图\", \"锐度增强\"], cols=2)\n"
   ]
  },
  {
   "cell_type": "markdown",
   "id": "8f0e0f7b",
   "metadata": {},
   "source": [
    "\n",
    "### RandomAffine 随机仿射变换\n",
    "- **目的**：随机执行旋转、平移、缩放与错切的组合仿射变换。\n",
    "- **对图片的作用**：示例中包含 15° 旋转与 10% 平移，模拟视角变化。\n"
   ]
  },
  {
   "cell_type": "code",
   "execution_count": null,
   "id": "b14d2385",
   "metadata": {},
   "outputs": [],
   "source": [
    "\n",
    "reset_seed()\n",
    "transform = T.RandomAffine(degrees=15, translate=(0.1, 0.1), scale=(0.9, 1.1), shear=10)\n",
    "original = get_base_pil()\n",
    "warped = transform(original)\n",
    "show_images([original, warped], [\"原图\", \"RandomAffine 后\"], cols=2)\n"
   ]
  },
  {
   "cell_type": "markdown",
   "id": "9b5463e7",
   "metadata": {},
   "source": [
    "\n",
    "### RandomApply 随机应用组合\n",
    "- **目的**：以给定概率整体执行一组变换。\n",
    "- **对图片的作用**：示例设定 p=1.0，确保颜色扰动与翻转全部生效。\n"
   ]
  },
  {
   "cell_type": "code",
   "execution_count": null,
   "id": "61c7a10f",
   "metadata": {},
   "outputs": [],
   "source": [
    "\n",
    "reset_seed()\n",
    "transform = T.RandomApply([\n",
    "    T.ColorJitter(0.2, 0.2, 0.2, 0.05),\n",
    "    T.RandomHorizontalFlip(p=1.0),\n",
    "], p=1.0)\n",
    "original = get_base_pil()\n",
    "augmented = transform(original)\n",
    "show_images([original, augmented], [\"原图\", \"RandomApply 后\"], cols=2)\n"
   ]
  },
  {
   "cell_type": "markdown",
   "id": "d427b374",
   "metadata": {},
   "source": [
    "\n",
    "### RandomAutocontrast 随机自动对比度\n",
    "- **目的**：随机执行自动对比度拉伸，扩展像素动态范围。\n",
    "- **对图片的作用**：示例中强制处理一次，暗部更亮、亮部更突出。\n"
   ]
  },
  {
   "cell_type": "code",
   "execution_count": null,
   "id": "559730a6",
   "metadata": {},
   "outputs": [],
   "source": [
    "\n",
    "reset_seed()\n",
    "transform = T.RandomAutocontrast(p=1.0)\n",
    "original = get_base_pil()\n",
    "processed = transform(original)\n",
    "show_images([original, processed], [\"原图\", \"自动对比度\"], cols=2)\n"
   ]
  },
  {
   "cell_type": "markdown",
   "id": "921cfbf5",
   "metadata": {},
   "source": [
    "\n",
    "### RandomChoice 随机选择变换\n",
    "- **目的**：在给定列表中随机选择一个变换执行。\n",
    "- **对图片的作用**：示例候选包括颜色扰动、水平翻转和灰度化，种子固定以重现结果。\n"
   ]
  },
  {
   "cell_type": "code",
   "execution_count": null,
   "id": "a543315c",
   "metadata": {},
   "outputs": [],
   "source": [
    "\n",
    "reset_seed()\n",
    "transform = TT.RandomChoice([\n",
    "    T.ColorJitter(0.3, 0.3, 0.3, 0.05),\n",
    "    T.RandomHorizontalFlip(p=1.0),\n",
    "    T.RandomGrayscale(p=1.0),\n",
    "])\n",
    "original = get_base_pil()\n",
    "result = transform(original)\n",
    "show_images([original, result], [\"原图\", \"RandomChoice 结果\"], cols=2)\n"
   ]
  },
  {
   "cell_type": "markdown",
   "id": "c2ff75d7",
   "metadata": {},
   "source": [
    "\n",
    "### RandomCrop 随机裁剪\n",
    "- **目的**：随机位置裁剪，常与填充配合提升背景多样性。\n",
    "- **对图片的作用**：示例裁剪 400×400 区域，聚焦于不同局部。\n"
   ]
  },
  {
   "cell_type": "code",
   "execution_count": null,
   "id": "76c97e32",
   "metadata": {},
   "outputs": [],
   "source": [
    "\n",
    "reset_seed()\n",
    "transform = T.RandomCrop(size=(400, 400))\n",
    "original = get_base_pil()\n",
    "cropped = transform(original)\n",
    "show_images([original, cropped], [\"原图\", \"随机裁剪\"], cols=2)\n"
   ]
  },
  {
   "cell_type": "markdown",
   "id": "52331c40",
   "metadata": {},
   "source": [
    "\n",
    "### RandomEqualize 随机直方图均衡\n",
    "- **目的**：随机对图像执行直方图均衡化。\n",
    "- **对图片的作用**：示例强制均衡直方图，提升暗部对比度。\n"
   ]
  },
  {
   "cell_type": "code",
   "execution_count": null,
   "id": "965cbf6c",
   "metadata": {},
   "outputs": [],
   "source": [
    "\n",
    "reset_seed()\n",
    "transform = T.RandomEqualize(p=1.0)\n",
    "original = get_base_pil()\n",
    "processed = transform(original)\n",
    "show_images([original, processed], [\"原图\", \"直方图均衡化\"], cols=2)\n"
   ]
  },
  {
   "cell_type": "markdown",
   "id": "c35c069b",
   "metadata": {},
   "source": [
    "\n",
    "### RandomErasing 随机擦除\n",
    "- **目的**：在张量图像上随机擦除矩形区域，模拟遮挡。\n",
    "- **对图片的作用**：示例以 100% 概率擦除面积占比 20%-30% 的区域。\n"
   ]
  },
  {
   "cell_type": "code",
   "execution_count": null,
   "id": "dcf2db48",
   "metadata": {},
   "outputs": [],
   "source": [
    "\n",
    "import torch\n",
    "reset_seed()\n",
    "transform = T.RandomErasing(p=1.0, scale=(0.2, 0.3), ratio=(0.3, 3.3), value=0.5)\n",
    "source = get_base_tensor()\n",
    "occluded = transform(source.clone())\n",
    "show_images([source, occluded], [\"原始张量\", \"RandomErasing 后\"], cols=2)\n"
   ]
  },
  {
   "cell_type": "markdown",
   "id": "37088cda",
   "metadata": {},
   "source": [
    "\n",
    "### RandomGrayscale 随机灰度化\n",
    "- **目的**：以概率将图像转换为灰度，同时可保持 3 通道输出。\n",
    "- **对图片的作用**：示例强制转灰度，帮助模型关注纹理。\n"
   ]
  },
  {
   "cell_type": "code",
   "execution_count": null,
   "id": "eab15f7c",
   "metadata": {},
   "outputs": [],
   "source": [
    "\n",
    "reset_seed()\n",
    "transform = T.RandomGrayscale(p=1.0)\n",
    "original = get_base_pil()\n",
    "processed = transform(original)\n",
    "show_images([original, processed], [\"原图\", \"随机灰度\"], cols=2)\n"
   ]
  },
  {
   "cell_type": "markdown",
   "id": "4f5c97a2",
   "metadata": {},
   "source": [
    "\n",
    "### RandomHorizontalFlip 随机水平翻转\n",
    "- **目的**：以概率执行水平翻转。\n",
    "- **对图片的作用**：示例始终左右镜像，模拟视角对称。\n"
   ]
  },
  {
   "cell_type": "code",
   "execution_count": null,
   "id": "1c252c8b",
   "metadata": {},
   "outputs": [],
   "source": [
    "\n",
    "reset_seed()\n",
    "transform = T.RandomHorizontalFlip(p=1.0)\n",
    "original = get_base_pil()\n",
    "flipped = transform(original)\n",
    "show_images([original, flipped], [\"原图\", \"水平翻转\"], cols=2)\n"
   ]
  },
  {
   "cell_type": "markdown",
   "id": "dffedce3",
   "metadata": {},
   "source": [
    "\n",
    "### RandomInvert 随机反色\n",
    "- **目的**：以概率对图像执行颜色反转。\n",
    "- **对图片的作用**：示例生成负片风格输出，提高对反色场景的适应力。\n"
   ]
  },
  {
   "cell_type": "code",
   "execution_count": null,
   "id": "1c451a2d",
   "metadata": {},
   "outputs": [],
   "source": [
    "\n",
    "reset_seed()\n",
    "transform = T.RandomInvert(p=1.0)\n",
    "original = get_base_pil()\n",
    "inverted = transform(original)\n",
    "show_images([original, inverted], [\"原图\", \"颜色反转\"], cols=2)\n"
   ]
  },
  {
   "cell_type": "markdown",
   "id": "43c292bb",
   "metadata": {},
   "source": [
    "\n",
    "### RandomOrder 随机顺序变换\n",
    "- **目的**：随机重排一组变换的执行顺序。\n",
    "- **对图片的作用**：示例在色彩与翻转之间打乱顺序，生成多样化结果。\n"
   ]
  },
  {
   "cell_type": "code",
   "execution_count": null,
   "id": "72757c95",
   "metadata": {},
   "outputs": [],
   "source": [
    "\n",
    "reset_seed()\n",
    "transform = TT.RandomOrder([\n",
    "    T.ColorJitter(0.3, 0.3, 0.3, 0.05),\n",
    "    T.RandomHorizontalFlip(p=1.0),\n",
    "])\n",
    "original = get_base_pil()\n",
    "result = transform(original)\n",
    "show_images([original, result], [\"原图\", \"RandomOrder 后\"], cols=2)\n"
   ]
  },
  {
   "cell_type": "markdown",
   "id": "dc19785c",
   "metadata": {},
   "source": [
    "\n",
    "### RandomPerspective 随机透视变换\n",
    "- **目的**：随机执行透视畸变，模拟视角变化。\n",
    "- **对图片的作用**：示例设置较大的 distortion_scale，突出透视拉伸。\n"
   ]
  },
  {
   "cell_type": "code",
   "execution_count": null,
   "id": "a5d8226c",
   "metadata": {},
   "outputs": [],
   "source": [
    "\n",
    "reset_seed()\n",
    "transform = T.RandomPerspective(distortion_scale=0.6, p=1.0)\n",
    "original = get_base_pil()\n",
    "warped = transform(original)\n",
    "show_images([original, warped], [\"原图\", \"透视畸变\"], cols=2)\n"
   ]
  },
  {
   "cell_type": "markdown",
   "id": "385488d2",
   "metadata": {},
   "source": [
    "\n",
    "### RandomPosterize 随机色彩量化\n",
    "- **目的**：随机减少位深，模拟低质量量化。\n",
    "- **对图片的作用**：示例保留 4 bit 色彩，产生分层效果。\n"
   ]
  },
  {
   "cell_type": "code",
   "execution_count": null,
   "id": "1df70eda",
   "metadata": {},
   "outputs": [],
   "source": [
    "\n",
    "reset_seed()\n",
    "transform = T.RandomPosterize(bits=4, p=1.0)\n",
    "original = get_base_pil()\n",
    "posterized = transform(original)\n",
    "show_images([original, posterized], [\"原图\", \"4 bit Posterize\"], cols=2)\n"
   ]
  },
  {
   "cell_type": "markdown",
   "id": "05224700",
   "metadata": {},
   "source": [
    "\n",
    "### RandomResizedCrop 随机缩放裁剪\n",
    "- **目的**：随机裁剪不同面积与宽高比后再缩放到目标尺寸。\n",
    "- **对图片的作用**：示例裁剪到 512×512，涵盖多尺度信息。\n"
   ]
  },
  {
   "cell_type": "code",
   "execution_count": null,
   "id": "b2513a97",
   "metadata": {},
   "outputs": [],
   "source": [
    "\n",
    "reset_seed()\n",
    "transform = T.RandomResizedCrop(size=(512, 512), scale=(0.5, 1.0), ratio=(0.75, 1.33))\n",
    "original = get_base_pil()\n",
    "result = transform(original)\n",
    "show_images([original, result], [\"原图\", \"RandomResizedCrop 后\"], cols=2)\n"
   ]
  },
  {
   "cell_type": "markdown",
   "id": "d5aeef7a",
   "metadata": {},
   "source": [
    "\n",
    "### RandomRotation 随机旋转\n",
    "- **目的**：在给定角度范围内随机旋转图像。\n",
    "- **对图片的作用**：示例 ±30° 随机旋转，模拟拍摄倾斜。\n"
   ]
  },
  {
   "cell_type": "code",
   "execution_count": null,
   "id": "a748715e",
   "metadata": {},
   "outputs": [],
   "source": [
    "\n",
    "reset_seed()\n",
    "transform = T.RandomRotation(degrees=(-30, 30), expand=True)\n",
    "original = get_base_pil()\n",
    "rotated = transform(original)\n",
    "show_images([original, rotated], [\"原图\", \"随机旋转\"], cols=2)\n"
   ]
  },
  {
   "cell_type": "markdown",
   "id": "4899227b",
   "metadata": {},
   "source": [
    "\n",
    "### RandomSolarize 随机日晒效果\n",
    "- **目的**：随机对高于阈值的像素执行反转，模拟过曝。\n",
    "- **对图片的作用**：示例阈值 100，亮部被翻转产生冲击感。\n"
   ]
  },
  {
   "cell_type": "code",
   "execution_count": null,
   "id": "fbe3d344",
   "metadata": {},
   "outputs": [],
   "source": [
    "\n",
    "reset_seed()\n",
    "transform = T.RandomSolarize(threshold=100, p=1.0)\n",
    "original = get_base_pil()\n",
    "processed = transform(original)\n",
    "show_images([original, processed], [\"原图\", \"Solarize\"], cols=2)\n"
   ]
  },
  {
   "cell_type": "markdown",
   "id": "d8e92826",
   "metadata": {},
   "source": [
    "\n",
    "### RandomTransforms 随机变换基类\n",
    "- **目的**：自定义带随机性的复合变换基类，需要实现 __call__。\n",
    "- **对图片的作用**：示例随机选择水平翻转或旋转，展示自定义用法。\n"
   ]
  },
  {
   "cell_type": "code",
   "execution_count": null,
   "id": "6e685ebf",
   "metadata": {},
   "outputs": [],
   "source": [
    "\n",
    "import torch\n",
    "class FlipOrRotate(TT.RandomTransforms):\n",
    "    def __init__(self):\n",
    "        super().__init__([\n",
    "            T.RandomHorizontalFlip(p=1.0),\n",
    "            T.RandomRotation(20),\n",
    "        ])\n",
    "\n",
    "    def __call__(self, img):\n",
    "        idx = torch.randint(len(self.transforms), (1,)).item()\n",
    "        return self.transforms[idx](img)\n",
    "\n",
    "reset_seed()\n",
    "transform = FlipOrRotate()\n",
    "original = get_base_pil()\n",
    "augmented = transform(original)\n",
    "show_images([original, augmented], [\"原图\", \"自定义 RandomTransforms\"], cols=2)\n"
   ]
  },
  {
   "cell_type": "markdown",
   "id": "1c395e53",
   "metadata": {},
   "source": [
    "\n",
    "### RandomVerticalFlip 随机垂直翻转\n",
    "- **目的**：以概率执行垂直翻转。\n",
    "- **对图片的作用**：示例始终上下翻转，模拟镜像倒置场景。\n"
   ]
  },
  {
   "cell_type": "code",
   "execution_count": null,
   "id": "8498ee68",
   "metadata": {},
   "outputs": [],
   "source": [
    "\n",
    "reset_seed()\n",
    "transform = T.RandomVerticalFlip(p=1.0)\n",
    "original = get_base_pil()\n",
    "flipped = transform(original)\n",
    "show_images([original, flipped], [\"原图\", \"垂直翻转\"], cols=2)\n"
   ]
  },
  {
   "cell_type": "markdown",
   "id": "a17c9817",
   "metadata": {},
   "source": [
    "\n",
    "### Resize 缩放\n",
    "- **目的**：调整图像尺寸，可按长边或指定大小缩放。\n",
    "- **对图片的作用**：示例统一缩放到 512×512，便于批处理对齐。\n"
   ]
  },
  {
   "cell_type": "code",
   "execution_count": null,
   "id": "7fec9b4d",
   "metadata": {},
   "outputs": [],
   "source": [
    "\n",
    "transform = T.Resize((512, 512))\n",
    "original = get_base_pil()\n",
    "resized = transform(original)\n",
    "show_images([original, resized], [\"原图\", \"Resize 后\"], cols=2)\n"
   ]
  },
  {
   "cell_type": "markdown",
   "id": "6082fac0",
   "metadata": {},
   "source": [
    "\n",
    "### TenCrop 十点裁剪\n",
    "- **目的**：输出五个裁剪及其垂直翻转，一共十张图像。\n",
    "- **对图片的作用**：提供多视角输入，常在评估时平均预测。\n"
   ]
  },
  {
   "cell_type": "code",
   "execution_count": null,
   "id": "7220f664",
   "metadata": {},
   "outputs": [],
   "source": [
    "\n",
    "reset_seed()\n",
    "transform = T.TenCrop(size=256, vertical_flip=True)\n",
    "original = get_base_pil()\n",
    "patches = transform(original)\n",
    "show_images(list(patches), [f\"裁剪 {i+1}\" for i in range(len(patches))], cols=5, figsize=(14, 6))\n"
   ]
  },
  {
   "cell_type": "markdown",
   "id": "821fcfce",
   "metadata": {},
   "source": [
    "\n",
    "### ToPILImage 张量转 PIL 图像\n",
    "- **目的**：将张量或 ndarray 转回 PIL 图像，便于保存与可视化。\n",
    "- **对图片的作用**：示例把张量恢复为 PIL，再次用于展示。\n"
   ]
  },
  {
   "cell_type": "code",
   "execution_count": null,
   "id": "0f82201d",
   "metadata": {},
   "outputs": [],
   "source": [
    "\n",
    "tensor = get_base_tensor()\n",
    "pil_img = T.ToPILImage()(tensor)\n",
    "show_images([tensor, pil_img], [\"张量\", \"转换为 PIL\"], cols=2)\n"
   ]
  },
  {
   "cell_type": "markdown",
   "id": "028a5639",
   "metadata": {},
   "source": [
    "\n",
    "### ToTensor 图像转张量\n",
    "- **目的**：将 PIL 图像或 ndarray 转换为 float32 张量并归一化到 [0,1]。\n",
    "- **对图片的作用**：示例输出形状与 dtype，展示数值范围。\n"
   ]
  },
  {
   "cell_type": "code",
   "execution_count": null,
   "id": "2cda4fcc",
   "metadata": {},
   "outputs": [],
   "source": [
    "\n",
    "tensor = T.ToTensor()(get_base_pil())\n",
    "print(f\"输出 dtype: {tensor.dtype}, 最小值: {tensor.min():.3f}, 最大值: {tensor.max():.3f}\")\n",
    "show_images([tensor], [\"ToTensor 结果\"])\n"
   ]
  },
  {
   "cell_type": "markdown",
   "id": "3a0a590c",
   "metadata": {},
   "source": [
    "\n",
    "### _check_sequence_input 序列参数校验\n",
    "- **目的**：内部校验工具，确保序列参数满足长度要求。\n",
    "- **对图片的作用**：示例展示合法输入通过与非法输入抛出异常的差别。\n"
   ]
  },
  {
   "cell_type": "code",
   "execution_count": null,
   "id": "433a301a",
   "metadata": {},
   "outputs": [],
   "source": [
    "\n",
    "from torchvision.transforms.transforms import _check_sequence_input\n",
    "_check_sequence_input((224, 224), \"size\", (2,))\n",
    "print(\"合法输入通过校验。\")\n",
    "try:\n",
    "    _check_sequence_input((224,), \"size\", (2,))\n",
    "except ValueError as err:\n",
    "    print(f\"非法输入触发异常: {err}\")\n"
   ]
  },
  {
   "cell_type": "markdown",
   "id": "36f43384",
   "metadata": {},
   "source": [
    "\n",
    "### _setup_angle 角度参数设置\n",
    "- **目的**：将角度参数规范化为 (min, max) 形式，供仿射等变换使用。\n",
    "- **对图片的作用**：示例说明单值与区间输入都被转换为统一区间。\n"
   ]
  },
  {
   "cell_type": "code",
   "execution_count": null,
   "id": "906920b6",
   "metadata": {},
   "outputs": [],
   "source": [
    "\n",
    "from torchvision.transforms.transforms import _setup_angle\n",
    "print(\"单值输入:\", _setup_angle(15, \"degrees\"))\n",
    "print(\"区间输入:\", _setup_angle((-30, 30), \"degrees\"))\n"
   ]
  },
  {
   "cell_type": "markdown",
   "id": "140bc2f4",
   "metadata": {},
   "source": [
    "\n",
    "### _setup_size 尺寸参数解析\n",
    "- **目的**：解析 size 参数为 (height, width) 并做合法性检查。\n",
    "- **对图片的作用**：示例展示多种输入格式的解析结果。\n"
   ]
  },
  {
   "cell_type": "code",
   "execution_count": null,
   "id": "630004fe",
   "metadata": {},
   "outputs": [],
   "source": [
    "\n",
    "from torchvision.transforms.transforms import _setup_size\n",
    "print(\"整数输入:\", _setup_size(256, \"size\"))\n",
    "print(\"元组输入:\", _setup_size((256, 320), \"size\"))\n"
   ]
  }
 ],
 "metadata": {
  "kernelspec": {
   "display_name": "Python 3",
   "language": "python",
   "name": "python3"
  },
  "language_info": {
   "name": "python",
   "version": "3.11"
  }
 },
 "nbformat": 4,
 "nbformat_minor": 5
}